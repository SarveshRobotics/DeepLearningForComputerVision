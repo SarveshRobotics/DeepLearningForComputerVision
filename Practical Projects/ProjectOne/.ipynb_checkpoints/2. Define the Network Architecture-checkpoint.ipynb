{
 "cells": [
  {
   "cell_type": "markdown",
   "metadata": {},
   "source": [
    "## Define the Convolutional Neural Network\n",
    "\n",
    "After you've looked at the data you're working with and, in this case, know the shapes of the images and of the keypoints, you are ready to define a convolutional neural network that can *learn* from this data.\n",
    "\n",
    "In this notebook and in `models.py`, you will:\n",
    "1. Define a CNN with images as input and keypoints as output\n",
    "2. Construct the transformed FaceKeypointsDataset, just as before\n",
    "3. Train the CNN on the training data, tracking loss\n",
    "4. See how the trained model performs on test data\n",
    "5. If necessary, modify the CNN structure and model hyperparameters, so that it performs *well* **\\***\n",
    "\n",
    "**\\*** What does *well* mean?\n",
    "\n",
    "\"Well\" means that the model's loss decreases during training **and**, when applied to test image data, the model produces keypoints that closely match the true keypoints of each face. And you'll see examples of this later in the notebook.\n",
    "\n",
    "---\n"
   ]
  },
  {
   "cell_type": "markdown",
   "metadata": {},
   "source": [
    "## CNN Architecture\n",
    "\n",
    "Recall that CNN's are defined by a few types of layers:\n",
    "* Convolutional layers\n",
    "* Maxpooling layers\n",
    "* Fully-connected layers\n",
    "\n",
    "You are required to use the above layers and encouraged to add multiple convolutional layers and things like dropout layers that may prevent overfitting. You are also encouraged to look at literature on keypoint detection, such as [this paper](https://arxiv.org/pdf/1710.00977.pdf), to help you determine the structure of your network.\n",
    "\n",
    "\n",
    "### TODO: Define your model in the provided file `models.py` file\n",
    "\n",
    "This file is mostly empty but contains the expected name and some TODO's for creating your model.\n",
    "\n",
    "---"
   ]
  },
  {
   "cell_type": "markdown",
   "metadata": {},
   "source": [
    "## PyTorch Neural Nets\n",
    "\n",
    "To define a neural network in PyTorch, you define the layers of a model in the function `__init__` and define the feedforward behavior of a network that employs those initialized layers in the function `forward`, which takes in an input image tensor, `x`. The structure of this Net class is shown below and left for you to fill in.\n",
    "\n",
    "Note: During training, PyTorch will be able to perform backpropagation by keeping track of the network's feedforward behavior and using autograd to calculate the update to the weights in the network.\n",
    "\n",
    "#### Define the Layers in ` __init__`\n",
    "As a reminder, a conv/pool layer may be defined like this (in `__init__`):\n",
    "```\n",
    "# 1 input image channel (for grayscale images), 32 output channels/feature maps, 3x3 square convolution kernel\n",
    "self.conv1 = nn.Conv2d(1, 32, 3)\n",
    "\n",
    "# maxpool that uses a square window of kernel_size=2, stride=2\n",
    "self.pool = nn.MaxPool2d(2, 2)      \n",
    "```\n",
    "\n",
    "#### Refer to Layers in `forward`\n",
    "Then referred to in the `forward` function like this, in which the conv1 layer has a ReLu activation applied to it before maxpooling is applied:\n",
    "```\n",
    "x = self.pool(F.relu(self.conv1(x)))\n",
    "```\n",
    "\n",
    "Best practice is to place any layers whose weights will change during the training process in `__init__` and refer to them in the `forward` function; any layers or functions that always behave in the same way, such as a pre-defined activation function, should appear *only* in the `forward` function."
   ]
  },
  {
   "cell_type": "markdown",
   "metadata": {},
   "source": [
    "#### Why models.py\n",
    "\n",
    "You are tasked with defining the network in the `models.py` file so that any models you define can be saved and loaded by name in different notebooks in this project directory. For example, by defining a CNN class called `Net` in `models.py`, you can then create that same architecture in this and other notebooks by simply importing the class and instantiating a model:\n",
    "```\n",
    "    from models import Net\n",
    "    net = Net()\n",
    "```"
   ]
  },
  {
   "cell_type": "code",
   "execution_count": 4,
   "metadata": {},
   "outputs": [
    {
     "name": "stdout",
     "output_type": "stream",
     "text": [
      "mkdir: cannot create directory ‘/data’: Permission denied\r\n"
     ]
    }
   ],
   "source": [
    "# load the data if you need to; if you have already loaded the data, you may comment this cell out\n",
    "# -- DO NOT CHANGE THIS CELL -- #\n",
    "!mkdir /data\n",
    "# !wget -P /data/ https://s3.amazonaws.com/video.udacity-data.com/topher/2018/May/5aea1b91_train-test-data/train-test-data.zip\n",
    "# !unzip -n /data/train-test-data.zip -d /data"
   ]
  },
  {
   "cell_type": "markdown",
   "metadata": {},
   "source": [
    "<div class=\"alert alert-info\"> ** Note: ** Workspaces automatically close connections after 30 minutes of inactivity (including inactivity while training!). Use the code snippet below to keep your workspace alive during training. (The active_session context manager is imported below.)\n",
    "</div>\n",
    "\n",
    "```\n",
    "    from workspace_utils import active_session\n",
    "\n",
    "    with active_session():\n",
    "        train_model(num_epochs)\n",
    "        \n",
    "```\n"
   ]
  },
  {
   "cell_type": "code",
   "execution_count": 18,
   "metadata": {},
   "outputs": [
    {
     "name": "stdout",
     "output_type": "stream",
     "text": [
      "The autoreload extension is already loaded. To reload it, use:\n",
      "  %reload_ext autoreload\n"
     ]
    }
   ],
   "source": [
    "# import the usual resources\n",
    "import matplotlib.pyplot as plt\n",
    "import numpy as np\n",
    "\n",
    "# import utilities to keep workspaces alive during model training\n",
    "from workspace_utils import active_session\n",
    "\n",
    "# watch for any changes in model.py, if it changes, re-load it automatically\n",
    "%load_ext autoreload\n",
    "%autoreload 2"
   ]
  },
  {
   "cell_type": "code",
   "execution_count": 19,
   "metadata": {},
   "outputs": [
    {
     "name": "stdout",
     "output_type": "stream",
     "text": [
      "Net(\n",
      "  (conv1): Conv2d(1, 32, kernel_size=(5, 5), stride=(1, 1))\n",
      "  (pool1): MaxPool2d(kernel_size=2, stride=2, padding=0, dilation=1, ceil_mode=False)\n",
      "  (conv2): Conv2d(32, 64, kernel_size=(5, 5), stride=(1, 1))\n",
      "  (pool2): MaxPool2d(kernel_size=2, stride=2, padding=0, dilation=1, ceil_mode=False)\n",
      "  (f1): Linear(in_features=186624, out_features=1024, bias=True)\n",
      "  (drop1): Dropout(p=0.4)\n",
      "  (f2): Linear(in_features=1024, out_features=136, bias=True)\n",
      ")\n"
     ]
    }
   ],
   "source": [
    "# Import the CNN architecture defined in models.py\n",
    "\n",
    "import torch\n",
    "import torch.nn as nn\n",
    "import torch.nn.functional as F\n",
    "\n",
    "## TODO: Once you've define the network, you can instantiate it\n",
    "# one example conv layer has been provided for you\n",
    "from models import Net\n",
    "\n",
    "net = Net()\n",
    "print(net)"
   ]
  },
  {
   "cell_type": "markdown",
   "metadata": {
    "collapsed": true
   },
   "source": [
    "## Transform the dataset \n",
    "\n",
    "To prepare for training, create a transformed dataset of images and keypoints.\n",
    "\n",
    "### TODO: Define a data transform\n",
    "\n",
    "<div style=\"text-align: justify\"> In PyTorch, a convolutional neural network expects a torch image of a consistent size as input. For efficient training, and so your model's loss does not blow up during training, it is also suggested that you normalize the input images and keypoints. The necessary transforms have been defined in `data_load.py` and you **do not** need to modify these; take a look at this file (you'll see the same transforms that were defined and applied in Notebook 1).</div>\n",
    "\n",
    "To define the data transform below, use a [composition](http://pytorch.org/tutorials/beginner/data_loading_tutorial.html#compose-transforms) of:\n",
    "1. Rescaling and/or cropping the data, such that you are left with a square image (the suggested size is 224x224px)\n",
    "2. Normalizing the images and keypoints; turning each RGB image into a grayscale image with a color range of [0, 1] and transforming the given keypoints into a range of [-1, 1]\n",
    "3. Turning these images and keypoints into Tensors\n",
    "<div style=\"text-align: justify\">\n",
    "These transformations have been defined in `data_load.py`, but it's up to you to call them and create a `data_transform` below. **This transform will be applied to the training data and, later, the test data**. It will change how you go about displaying these images and keypoints, but these steps are essential for efficient training.\n",
    "\n",
    "As a note, should you want to perform data augmentation (which is optional in this project), and randomly rotate or shift these images, a square image size will be useful; rotating a 224x224 image by 90 degrees will result in the same shape of output.\n",
    "</div>"
   ]
  },
  {
   "cell_type": "code",
   "execution_count": 20,
   "metadata": {},
   "outputs": [],
   "source": [
    "from torch.utils.data import Dataset, DataLoader\n",
    "from torchvision import transforms, utils\n",
    "\n",
    "# the dataset we created in Notebook 1 is copied in the helper file `data_load.py`\n",
    "from data_load import FacialKeypointsDataset\n",
    "# the transforms we defined in Notebook 1 are in the helper file `data_load.py`\n",
    "from data_load import Rescale, RandomCrop, Normalize, ToTensor\n",
    "\n",
    "# Data transforms to be applied on the images\n",
    "data_transform = transforms.Compose([Rescale(250),\n",
    "                               RandomCrop(224),\n",
    "                               Normalize(),\n",
    "                               ToTensor()])\n",
    "\n",
    "# testing that you've defined a transform\n",
    "assert(data_transform is not None), 'Define a data_transform'"
   ]
  },
  {
   "cell_type": "code",
   "execution_count": 21,
   "metadata": {},
   "outputs": [
    {
     "name": "stdout",
     "output_type": "stream",
     "text": [
      "Number of images:  3462\n",
      "0 torch.Size([1, 224, 224]) torch.Size([68, 2])\n",
      "1 torch.Size([1, 224, 224]) torch.Size([68, 2])\n",
      "2 torch.Size([1, 224, 224]) torch.Size([68, 2])\n",
      "3 torch.Size([1, 224, 224]) torch.Size([68, 2])\n"
     ]
    }
   ],
   "source": [
    "# create the transformed dataset\n",
    "transformed_dataset = FacialKeypointsDataset(csv_file='/data/training_frames_keypoints.csv',\n",
    "                                             root_dir='/data/training/',\n",
    "                                             transform=data_transform)\n",
    "\n",
    "\n",
    "print('Number of images: ', len(transformed_dataset))\n",
    "\n",
    "# iterate through the transformed dataset and print some stats about the first few samples\n",
    "for i in range(4):\n",
    "    sample = transformed_dataset[i]\n",
    "    print(i, sample['image'].size(), sample['keypoints'].size())"
   ]
  },
  {
   "cell_type": "markdown",
   "metadata": {},
   "source": [
    "## Batching and loading data\n",
    "\n",
    "Next, having defined the transformed dataset, we can use PyTorch's DataLoader class to load the training data in batches of whatever size as well as to shuffle the data for training the model. You can read more about the parameters of the DataLoader, in [this documentation](http://pytorch.org/docs/master/data.html).\n",
    "\n",
    "#### Batch size\n",
    "Decide on a good batch size for training your model. Try both small and large batch sizes and note how the loss decreases as the model trains. Too large a batch size may cause your model to crash and/or run out of memory while training.\n",
    "\n",
    "**Note for Windows users**: Please change the `num_workers` to 0 or you may face some issues with your DataLoader failing."
   ]
  },
  {
   "cell_type": "code",
   "execution_count": 22,
   "metadata": {},
   "outputs": [],
   "source": [
    "# load training data in batches\n",
    "batch_size = 32 # Initially set to 10.\n",
    "\n",
    "train_loader = DataLoader(transformed_dataset, \n",
    "                          batch_size=batch_size,\n",
    "                          shuffle=True, \n",
    "                          num_workers=4)"
   ]
  },
  {
   "cell_type": "markdown",
   "metadata": {},
   "source": [
    "## Before training\n",
    "\n",
    "Take a look at how this model performs before it trains. You should see that the keypoints it predicts start off in one spot and don't match the keypoints on a face at all! It's interesting to visualize this behavior so that you can compare it to the model after training and see how the model has improved.\n",
    "\n",
    "#### Load in the test dataset\n",
    "\n",
    "The test dataset is one that this model has *not* seen before, meaning it has not trained with these images. We'll load in this test data and before and after training, see how your model performs on this set!\n",
    "\n",
    "To visualize this test data, we have to go through some un-transformation steps to turn our images into python images from tensors and to turn our keypoints back into a recognizable range. "
   ]
  },
  {
   "cell_type": "code",
   "execution_count": 23,
   "metadata": {},
   "outputs": [],
   "source": [
    "# load in the test data, using the dataset class and apply the data_transform you defined above\n",
    "\n",
    "# create the test dataset\n",
    "test_dataset = FacialKeypointsDataset(csv_file='/data/test_frames_keypoints.csv',\n",
    "                                             root_dir='/data/test/',\n",
    "                                             transform=data_transform)"
   ]
  },
  {
   "cell_type": "code",
   "execution_count": 24,
   "metadata": {},
   "outputs": [],
   "source": [
    "# load test data in batches\n",
    "batch_size = 10 # Initially set to 10.\n",
    "\n",
    "test_loader = DataLoader(test_dataset, \n",
    "                          batch_size=batch_size,\n",
    "                          shuffle=True, \n",
    "                          num_workers=4)"
   ]
  },
  {
   "cell_type": "markdown",
   "metadata": {},
   "source": [
    "## Apply the model on a test sample\n",
    "\n",
    "To test the model on a test sample of data, you have to follow these steps:\n",
    "1. Extract the image and ground truth keypoints from a sample\n",
    "2. Wrap the image in a Variable, so that the net can process it as input and track how it changes as the image moves through the network.\n",
    "3. Make sure the image is a FloatTensor, which the model expects.\n",
    "4. Forward pass the image through the net to get the predicted, output keypoints.\n",
    "\n",
    "This function test how the network performs on the first batch of test data. It returns the images, the transformed images, the predicted keypoints (produced by the model), and the ground truth keypoints."
   ]
  },
  {
   "cell_type": "code",
   "execution_count": 25,
   "metadata": {},
   "outputs": [],
   "source": [
    "# test the model on a batch of test images\n",
    "def net_sample_output():\n",
    "    \n",
    "    # iterate through the test dataset\n",
    "    for i, sample in enumerate(test_loader):\n",
    "        \n",
    "        # get sample data: images and ground truth keypoints\n",
    "        images = sample['image']\n",
    "        key_pts = sample['keypoints']\n",
    "\n",
    "        # convert images to FloatTensors\n",
    "        images = images.type(torch.FloatTensor)\n",
    "\n",
    "        # forward pass to get net output\n",
    "        output_pts = net(images)\n",
    "        \n",
    "        # reshape to batch_size x 68 x 2 pts\n",
    "        output_pts = output_pts.view(output_pts.size()[0], 68, -1)\n",
    "        \n",
    "        # break after first image is tested\n",
    "        if i == 0:\n",
    "            return images, output_pts, key_pts            "
   ]
  },
  {
   "cell_type": "markdown",
   "metadata": {},
   "source": [
    "#### Debugging tips\n",
    "\n",
    "If you get a size or dimension error here, make sure that your network outputs the expected number of keypoints! Or if you get a Tensor type error, look into changing the above code that casts the data into float types: `images = images.type(torch.FloatTensor)`."
   ]
  },
  {
   "cell_type": "code",
   "execution_count": 26,
   "metadata": {},
   "outputs": [
    {
     "ename": "RuntimeError",
     "evalue": "size mismatch, m1: [10 x 179776], m2: [186624 x 1024] at /opt/conda/conda-bld/pytorch_1524584710464/work/aten/src/TH/generic/THTensorMath.c:2033",
     "output_type": "error",
     "traceback": [
      "\u001b[0;31m---------------------------------------------------------------------------\u001b[0m",
      "\u001b[0;31mRuntimeError\u001b[0m                              Traceback (most recent call last)",
      "\u001b[0;32m<ipython-input-26-07f935a80088>\u001b[0m in \u001b[0;36m<module>\u001b[0;34m()\u001b[0m\n\u001b[1;32m      1\u001b[0m \u001b[0;31m# call the above function\u001b[0m\u001b[0;34m\u001b[0m\u001b[0;34m\u001b[0m\u001b[0m\n\u001b[1;32m      2\u001b[0m \u001b[0;31m# returns: test images, test predicted keypoints, test ground truth keypoints\u001b[0m\u001b[0;34m\u001b[0m\u001b[0;34m\u001b[0m\u001b[0m\n\u001b[0;32m----> 3\u001b[0;31m \u001b[0mtest_images\u001b[0m\u001b[0;34m,\u001b[0m \u001b[0mtest_outputs\u001b[0m\u001b[0;34m,\u001b[0m \u001b[0mgt_pts\u001b[0m \u001b[0;34m=\u001b[0m \u001b[0mnet_sample_output\u001b[0m\u001b[0;34m(\u001b[0m\u001b[0;34m)\u001b[0m\u001b[0;34m\u001b[0m\u001b[0m\n\u001b[0m\u001b[1;32m      4\u001b[0m \u001b[0;34m\u001b[0m\u001b[0m\n\u001b[1;32m      5\u001b[0m \u001b[0;31m# print out the dimensions of the data to see if they make sense\u001b[0m\u001b[0;34m\u001b[0m\u001b[0;34m\u001b[0m\u001b[0m\n",
      "\u001b[0;32m<ipython-input-25-41ea83193155>\u001b[0m in \u001b[0;36mnet_sample_output\u001b[0;34m()\u001b[0m\n\u001b[1;32m     13\u001b[0m \u001b[0;34m\u001b[0m\u001b[0m\n\u001b[1;32m     14\u001b[0m         \u001b[0;31m# forward pass to get net output\u001b[0m\u001b[0;34m\u001b[0m\u001b[0;34m\u001b[0m\u001b[0m\n\u001b[0;32m---> 15\u001b[0;31m         \u001b[0moutput_pts\u001b[0m \u001b[0;34m=\u001b[0m \u001b[0mnet\u001b[0m\u001b[0;34m(\u001b[0m\u001b[0mimages\u001b[0m\u001b[0;34m)\u001b[0m\u001b[0;34m\u001b[0m\u001b[0m\n\u001b[0m\u001b[1;32m     16\u001b[0m \u001b[0;34m\u001b[0m\u001b[0m\n\u001b[1;32m     17\u001b[0m         \u001b[0;31m# reshape to batch_size x 68 x 2 pts\u001b[0m\u001b[0;34m\u001b[0m\u001b[0;34m\u001b[0m\u001b[0m\n",
      "\u001b[0;32m/opt/conda/lib/python3.6/site-packages/torch/nn/modules/module.py\u001b[0m in \u001b[0;36m__call__\u001b[0;34m(self, *input, **kwargs)\u001b[0m\n\u001b[1;32m    489\u001b[0m             \u001b[0mresult\u001b[0m \u001b[0;34m=\u001b[0m \u001b[0mself\u001b[0m\u001b[0;34m.\u001b[0m\u001b[0m_slow_forward\u001b[0m\u001b[0;34m(\u001b[0m\u001b[0;34m*\u001b[0m\u001b[0minput\u001b[0m\u001b[0;34m,\u001b[0m \u001b[0;34m**\u001b[0m\u001b[0mkwargs\u001b[0m\u001b[0;34m)\u001b[0m\u001b[0;34m\u001b[0m\u001b[0m\n\u001b[1;32m    490\u001b[0m         \u001b[0;32melse\u001b[0m\u001b[0;34m:\u001b[0m\u001b[0;34m\u001b[0m\u001b[0m\n\u001b[0;32m--> 491\u001b[0;31m             \u001b[0mresult\u001b[0m \u001b[0;34m=\u001b[0m \u001b[0mself\u001b[0m\u001b[0;34m.\u001b[0m\u001b[0mforward\u001b[0m\u001b[0;34m(\u001b[0m\u001b[0;34m*\u001b[0m\u001b[0minput\u001b[0m\u001b[0;34m,\u001b[0m \u001b[0;34m**\u001b[0m\u001b[0mkwargs\u001b[0m\u001b[0;34m)\u001b[0m\u001b[0;34m\u001b[0m\u001b[0m\n\u001b[0m\u001b[1;32m    492\u001b[0m         \u001b[0;32mfor\u001b[0m \u001b[0mhook\u001b[0m \u001b[0;32min\u001b[0m \u001b[0mself\u001b[0m\u001b[0;34m.\u001b[0m\u001b[0m_forward_hooks\u001b[0m\u001b[0;34m.\u001b[0m\u001b[0mvalues\u001b[0m\u001b[0;34m(\u001b[0m\u001b[0;34m)\u001b[0m\u001b[0;34m:\u001b[0m\u001b[0;34m\u001b[0m\u001b[0m\n\u001b[1;32m    493\u001b[0m             \u001b[0mhook_result\u001b[0m \u001b[0;34m=\u001b[0m \u001b[0mhook\u001b[0m\u001b[0;34m(\u001b[0m\u001b[0mself\u001b[0m\u001b[0;34m,\u001b[0m \u001b[0minput\u001b[0m\u001b[0;34m,\u001b[0m \u001b[0mresult\u001b[0m\u001b[0;34m)\u001b[0m\u001b[0;34m\u001b[0m\u001b[0m\n",
      "\u001b[0;32m/home/workspace/models.py\u001b[0m in \u001b[0;36mforward\u001b[0;34m(self, x)\u001b[0m\n\u001b[1;32m     43\u001b[0m         \u001b[0mx\u001b[0m \u001b[0;34m=\u001b[0m \u001b[0mx\u001b[0m\u001b[0;34m.\u001b[0m\u001b[0mview\u001b[0m\u001b[0;34m(\u001b[0m\u001b[0mx\u001b[0m\u001b[0;34m.\u001b[0m\u001b[0msize\u001b[0m\u001b[0;34m(\u001b[0m\u001b[0;36m0\u001b[0m\u001b[0;34m)\u001b[0m\u001b[0;34m,\u001b[0m \u001b[0;34m-\u001b[0m\u001b[0;36m1\u001b[0m\u001b[0;34m)\u001b[0m \u001b[0;31m# Flatten\u001b[0m\u001b[0;34m\u001b[0m\u001b[0m\n\u001b[1;32m     44\u001b[0m \u001b[0;34m\u001b[0m\u001b[0m\n\u001b[0;32m---> 45\u001b[0;31m         \u001b[0mx\u001b[0m \u001b[0;34m=\u001b[0m \u001b[0mF\u001b[0m\u001b[0;34m.\u001b[0m\u001b[0mrelu\u001b[0m\u001b[0;34m(\u001b[0m\u001b[0mself\u001b[0m\u001b[0;34m.\u001b[0m\u001b[0mf1\u001b[0m\u001b[0;34m(\u001b[0m\u001b[0mx\u001b[0m\u001b[0;34m)\u001b[0m\u001b[0;34m)\u001b[0m \u001b[0;31m# LL 1\u001b[0m\u001b[0;34m\u001b[0m\u001b[0m\n\u001b[0m\u001b[1;32m     46\u001b[0m         \u001b[0mx\u001b[0m \u001b[0;34m=\u001b[0m \u001b[0mself\u001b[0m\u001b[0;34m.\u001b[0m\u001b[0mdrop1\u001b[0m\u001b[0;34m(\u001b[0m\u001b[0mx\u001b[0m\u001b[0;34m)\u001b[0m \u001b[0;31m# Dropout in between\u001b[0m\u001b[0;34m\u001b[0m\u001b[0m\n\u001b[1;32m     47\u001b[0m         \u001b[0mx\u001b[0m \u001b[0;34m=\u001b[0m \u001b[0mself\u001b[0m\u001b[0;34m.\u001b[0m\u001b[0mf2\u001b[0m\u001b[0;34m(\u001b[0m\u001b[0mx\u001b[0m\u001b[0;34m)\u001b[0m \u001b[0;31m# LL 2\u001b[0m\u001b[0;34m\u001b[0m\u001b[0m\n",
      "\u001b[0;32m/opt/conda/lib/python3.6/site-packages/torch/nn/modules/module.py\u001b[0m in \u001b[0;36m__call__\u001b[0;34m(self, *input, **kwargs)\u001b[0m\n\u001b[1;32m    489\u001b[0m             \u001b[0mresult\u001b[0m \u001b[0;34m=\u001b[0m \u001b[0mself\u001b[0m\u001b[0;34m.\u001b[0m\u001b[0m_slow_forward\u001b[0m\u001b[0;34m(\u001b[0m\u001b[0;34m*\u001b[0m\u001b[0minput\u001b[0m\u001b[0;34m,\u001b[0m \u001b[0;34m**\u001b[0m\u001b[0mkwargs\u001b[0m\u001b[0;34m)\u001b[0m\u001b[0;34m\u001b[0m\u001b[0m\n\u001b[1;32m    490\u001b[0m         \u001b[0;32melse\u001b[0m\u001b[0;34m:\u001b[0m\u001b[0;34m\u001b[0m\u001b[0m\n\u001b[0;32m--> 491\u001b[0;31m             \u001b[0mresult\u001b[0m \u001b[0;34m=\u001b[0m \u001b[0mself\u001b[0m\u001b[0;34m.\u001b[0m\u001b[0mforward\u001b[0m\u001b[0;34m(\u001b[0m\u001b[0;34m*\u001b[0m\u001b[0minput\u001b[0m\u001b[0;34m,\u001b[0m \u001b[0;34m**\u001b[0m\u001b[0mkwargs\u001b[0m\u001b[0;34m)\u001b[0m\u001b[0;34m\u001b[0m\u001b[0m\n\u001b[0m\u001b[1;32m    492\u001b[0m         \u001b[0;32mfor\u001b[0m \u001b[0mhook\u001b[0m \u001b[0;32min\u001b[0m \u001b[0mself\u001b[0m\u001b[0;34m.\u001b[0m\u001b[0m_forward_hooks\u001b[0m\u001b[0;34m.\u001b[0m\u001b[0mvalues\u001b[0m\u001b[0;34m(\u001b[0m\u001b[0;34m)\u001b[0m\u001b[0;34m:\u001b[0m\u001b[0;34m\u001b[0m\u001b[0m\n\u001b[1;32m    493\u001b[0m             \u001b[0mhook_result\u001b[0m \u001b[0;34m=\u001b[0m \u001b[0mhook\u001b[0m\u001b[0;34m(\u001b[0m\u001b[0mself\u001b[0m\u001b[0;34m,\u001b[0m \u001b[0minput\u001b[0m\u001b[0;34m,\u001b[0m \u001b[0mresult\u001b[0m\u001b[0;34m)\u001b[0m\u001b[0;34m\u001b[0m\u001b[0m\n",
      "\u001b[0;32m/opt/conda/lib/python3.6/site-packages/torch/nn/modules/linear.py\u001b[0m in \u001b[0;36mforward\u001b[0;34m(self, input)\u001b[0m\n\u001b[1;32m     53\u001b[0m \u001b[0;34m\u001b[0m\u001b[0m\n\u001b[1;32m     54\u001b[0m     \u001b[0;32mdef\u001b[0m \u001b[0mforward\u001b[0m\u001b[0;34m(\u001b[0m\u001b[0mself\u001b[0m\u001b[0;34m,\u001b[0m \u001b[0minput\u001b[0m\u001b[0;34m)\u001b[0m\u001b[0;34m:\u001b[0m\u001b[0;34m\u001b[0m\u001b[0m\n\u001b[0;32m---> 55\u001b[0;31m         \u001b[0;32mreturn\u001b[0m \u001b[0mF\u001b[0m\u001b[0;34m.\u001b[0m\u001b[0mlinear\u001b[0m\u001b[0;34m(\u001b[0m\u001b[0minput\u001b[0m\u001b[0;34m,\u001b[0m \u001b[0mself\u001b[0m\u001b[0;34m.\u001b[0m\u001b[0mweight\u001b[0m\u001b[0;34m,\u001b[0m \u001b[0mself\u001b[0m\u001b[0;34m.\u001b[0m\u001b[0mbias\u001b[0m\u001b[0;34m)\u001b[0m\u001b[0;34m\u001b[0m\u001b[0m\n\u001b[0m\u001b[1;32m     56\u001b[0m \u001b[0;34m\u001b[0m\u001b[0m\n\u001b[1;32m     57\u001b[0m     \u001b[0;32mdef\u001b[0m \u001b[0mextra_repr\u001b[0m\u001b[0;34m(\u001b[0m\u001b[0mself\u001b[0m\u001b[0;34m)\u001b[0m\u001b[0;34m:\u001b[0m\u001b[0;34m\u001b[0m\u001b[0m\n",
      "\u001b[0;32m/opt/conda/lib/python3.6/site-packages/torch/nn/functional.py\u001b[0m in \u001b[0;36mlinear\u001b[0;34m(input, weight, bias)\u001b[0m\n\u001b[1;32m    990\u001b[0m     \u001b[0;32mif\u001b[0m \u001b[0minput\u001b[0m\u001b[0;34m.\u001b[0m\u001b[0mdim\u001b[0m\u001b[0;34m(\u001b[0m\u001b[0;34m)\u001b[0m \u001b[0;34m==\u001b[0m \u001b[0;36m2\u001b[0m \u001b[0;32mand\u001b[0m \u001b[0mbias\u001b[0m \u001b[0;32mis\u001b[0m \u001b[0;32mnot\u001b[0m \u001b[0;32mNone\u001b[0m\u001b[0;34m:\u001b[0m\u001b[0;34m\u001b[0m\u001b[0m\n\u001b[1;32m    991\u001b[0m         \u001b[0;31m# fused op is marginally faster\u001b[0m\u001b[0;34m\u001b[0m\u001b[0;34m\u001b[0m\u001b[0m\n\u001b[0;32m--> 992\u001b[0;31m         \u001b[0;32mreturn\u001b[0m \u001b[0mtorch\u001b[0m\u001b[0;34m.\u001b[0m\u001b[0maddmm\u001b[0m\u001b[0;34m(\u001b[0m\u001b[0mbias\u001b[0m\u001b[0;34m,\u001b[0m \u001b[0minput\u001b[0m\u001b[0;34m,\u001b[0m \u001b[0mweight\u001b[0m\u001b[0;34m.\u001b[0m\u001b[0mt\u001b[0m\u001b[0;34m(\u001b[0m\u001b[0;34m)\u001b[0m\u001b[0;34m)\u001b[0m\u001b[0;34m\u001b[0m\u001b[0m\n\u001b[0m\u001b[1;32m    993\u001b[0m \u001b[0;34m\u001b[0m\u001b[0m\n\u001b[1;32m    994\u001b[0m     \u001b[0moutput\u001b[0m \u001b[0;34m=\u001b[0m \u001b[0minput\u001b[0m\u001b[0;34m.\u001b[0m\u001b[0mmatmul\u001b[0m\u001b[0;34m(\u001b[0m\u001b[0mweight\u001b[0m\u001b[0;34m.\u001b[0m\u001b[0mt\u001b[0m\u001b[0;34m(\u001b[0m\u001b[0;34m)\u001b[0m\u001b[0;34m)\u001b[0m\u001b[0;34m\u001b[0m\u001b[0m\n",
      "\u001b[0;31mRuntimeError\u001b[0m: size mismatch, m1: [10 x 179776], m2: [186624 x 1024] at /opt/conda/conda-bld/pytorch_1524584710464/work/aten/src/TH/generic/THTensorMath.c:2033"
     ]
    }
   ],
   "source": [
    "# call the above function\n",
    "# returns: test images, test predicted keypoints, test ground truth keypoints\n",
    "test_images, test_outputs, gt_pts = net_sample_output()\n",
    "\n",
    "# print out the dimensions of the data to see if they make sense\n",
    "print(test_images.data.size())\n",
    "print(test_outputs.data.size())\n",
    "print(gt_pts.size())"
   ]
  },
  {
   "cell_type": "markdown",
   "metadata": {},
   "source": [
    "## Visualize the predicted keypoints\n",
    "\n",
    "Once we've had the model produce some predicted output keypoints, we can visualize these points in a way that's similar to how we've displayed this data before, only this time, we have to \"un-transform\" the image/keypoint data to display it.\n",
    "\n",
    "Note that I've defined a *new* function, `show_all_keypoints` that displays a grayscale image, its predicted keypoints and its ground truth keypoints (if provided)."
   ]
  },
  {
   "cell_type": "code",
   "execution_count": 95,
   "metadata": {},
   "outputs": [],
   "source": [
    "def show_all_keypoints(image, predicted_key_pts, gt_pts=None):\n",
    "    \"\"\"Show image with predicted keypoints\"\"\"\n",
    "    # image is grayscale\n",
    "    plt.imshow(image, cmap='gray')\n",
    "    plt.scatter(predicted_key_pts[:, 0], predicted_key_pts[:, 1], s=20, marker='.', c='m')\n",
    "    # plot ground truth points as green pts\n",
    "    if gt_pts is not None:\n",
    "        plt.scatter(gt_pts[:, 0], gt_pts[:, 1], s=20, marker='.', c='g')"
   ]
  },
  {
   "cell_type": "markdown",
   "metadata": {},
   "source": [
    "#### Un-transformation\n",
    "\n",
    "Next, you'll see a helper function. `visualize_output` that takes in a batch of images, predicted keypoints, and ground truth keypoints and displays a set of those images and their true/predicted keypoints.\n",
    "\n",
    "This function's main role is to take batches of image and keypoint data (the input and output of your CNN), and transform them into numpy images and un-normalized keypoints (x, y) for normal display. The un-transformation process turns keypoints and images into numpy arrays from Tensors *and* it undoes the keypoint normalization done in the Normalize() transform; it's assumed that you applied these transformations when you loaded your test data."
   ]
  },
  {
   "cell_type": "code",
   "execution_count": 96,
   "metadata": {},
   "outputs": [
    {
     "data": {
      "image/png": "[encoded data removed]",
      "text/plain": [
       "<matplotlib.figure.Figure at 0x7faf087abac8>"
      ]
     },
     "metadata": {
      "needs_background": "light"
     },
     "output_type": "display_data"
    },
    {
     "data": {
      "image/png": "[encoded data removed]",
      "text/plain": [
       "<matplotlib.figure.Figure at 0x7faf07f188d0>"
      ]
     },
     "metadata": {
      "needs_background": "light"
     },
     "output_type": "display_data"
    },
    {
     "data": {
      "image/png": "[encoded data removed]",
      "text/plain": [
       "<matplotlib.figure.Figure at 0x7faf07ea19b0>"
      ]
     },
     "metadata": {
      "needs_background": "light"
     },
     "output_type": "display_data"
    },
    {
     "data": {
      "image/png": "[encoded data removed]",
      "text/plain": [
       "<matplotlib.figure.Figure at 0x7faf08737550>"
      ]
     },
     "metadata": {
      "needs_background": "light"
     },
     "output_type": "display_data"
    },
    {
     "data": {
      "image/png": "[encoded data removed]",
      "text/plain": [
       "<matplotlib.figure.Figure at 0x7faf07e1b438>"
      ]
     },
     "metadata": {
      "needs_background": "light"
     },
     "output_type": "display_data"
    },
    {
     "data": {
      "image/png": "[encoded data removed]",
      "text/plain": [
       "<matplotlib.figure.Figure at 0x7faf07ddd1d0>"
      ]
     },
     "metadata": {
      "needs_background": "light"
     },
     "output_type": "display_data"
    },
    {
     "data": {
      "image/png": "[encoded data removed]",
      "text/plain": [
       "<matplotlib.figure.Figure at 0x7faf07da02b0>"
      ]
     },
     "metadata": {
      "needs_background": "light"
     },
     "output_type": "display_data"
    },
    {
     "data": {
      "image/png": "[encoded data removed]",
      "text/plain": [
       "<matplotlib.figure.Figure at 0x7faf07dcbfd0>"
      ]
     },
     "metadata": {
      "needs_background": "light"
     },
     "output_type": "display_data"
    },
    {
     "data": {
      "image/png": "[encoded data removed]",
      "text/plain": [
       "<matplotlib.figure.Figure at 0x7faf07d98da0>"
      ]
     },
     "metadata": {
      "needs_background": "light"
     },
     "output_type": "display_data"
    },
    {
     "data": {
      "image/png": "[encoded data removed]",
      "text/plain": [
       "<matplotlib.figure.Figure at 0x7faf07d59e80>"
      ]
     },
     "metadata": {
      "needs_background": "light"
     },
     "output_type": "display_data"
    }
   ],
   "source": [
    "# visualize the output\n",
    "# by default this shows a batch of 10 images\n",
    "def visualize_output(test_images, test_outputs, gt_pts=None, batch_size=10):\n",
    "\n",
    "    for i in range(batch_size):\n",
    "        plt.figure(figsize=(20,10))\n",
    "        ax = plt.subplot(1, batch_size, i+1)\n",
    "\n",
    "        # un-transform the image data\n",
    "        image = test_images[i].data   # get the image from it's Variable wrapper\n",
    "        image = image.numpy()   # convert to numpy array from a Tensor\n",
    "        image = np.transpose(image, (1, 2, 0))   # transpose to go from torch to numpy image\n",
    "\n",
    "        # un-transform the predicted key_pts data\n",
    "        predicted_key_pts = test_outputs[i].data\n",
    "        predicted_key_pts = predicted_key_pts.numpy()\n",
    "        # undo normalization of keypoints  \n",
    "        predicted_key_pts = predicted_key_pts*50.0+100\n",
    "        \n",
    "        # plot ground truth points for comparison, if they exist\n",
    "        ground_truth_pts = None\n",
    "        if gt_pts is not None:\n",
    "            ground_truth_pts = gt_pts[i]         \n",
    "            ground_truth_pts = ground_truth_pts*50.0+100\n",
    "        \n",
    "        # call show_all_keypoints\n",
    "        show_all_keypoints(np.squeeze(image), predicted_key_pts, ground_truth_pts)\n",
    "            \n",
    "        plt.axis('off')\n",
    "\n",
    "    plt.show()\n",
    "    \n",
    "# call it\n",
    "visualize_output(test_images, test_outputs, gt_pts)"
   ]
  },
  {
   "cell_type": "markdown",
   "metadata": {},
   "source": [
    "## Training\n",
    "\n",
    "#### Loss function\n",
    "Training a network to predict keypoints is different than training a network to predict a class; instead of outputting a distribution of classes and using cross entropy loss, you may want to choose a loss function that is suited for regression, which directly compares a predicted value and target value. Read about the various kinds of loss functions (like MSE or L1/SmoothL1 loss) in [this documentation](http://pytorch.org/docs/master/_modules/torch/nn/modules/loss.html).\n",
    "\n",
    "### TODO: Define the loss and optimization\n",
    "\n",
    "Next, you'll define how the model will train by deciding on the loss function and optimizer.\n",
    "\n",
    "---"
   ]
  },
  {
   "cell_type": "code",
   "execution_count": 97,
   "metadata": {},
   "outputs": [],
   "source": [
    "## TODO: Define the loss and optimization\n",
    "import torch.optim as optim\n",
    "\n",
    "# using MSE loss function for regression\n",
    "criterion = nn.MSELoss()\n",
    "\n",
    "# stochastic gradient descent with a small learning rate & some momentum\n",
    "optimizer = optim.SGD(net.parameters(), lr=0.001, momentum=0.9)"
   ]
  },
  {
   "cell_type": "markdown",
   "metadata": {},
   "source": [
    "## Training and Initial Observation\n",
    "\n",
    "Now, you'll train on your batched training data from `train_loader` for a number of epochs. \n",
    "\n",
    "To quickly observe how your model is training and decide on whether or not you should modify it's structure or hyperparameters, you're encouraged to start off with just one or two epochs at first. As you train, note how your the model's loss behaves over time: does it decrease quickly at first and then slow down? Does it take a while to decrease in the first place? What happens if you change the batch size of your training data or modify your loss function? etc. \n",
    "\n",
    "Use these initial observations to make changes to your model and decide on the best architecture before you train for many epochs and create a final model."
   ]
  },
  {
   "cell_type": "code",
   "execution_count": 98,
   "metadata": {},
   "outputs": [],
   "source": [
    "def train_net(n_epochs):\n",
    "\n",
    "    # prepare the net for training\n",
    "    net.train()\n",
    "    loss_training = []\n",
    "\n",
    "    for epoch in range(n_epochs):  # loop over the dataset multiple times\n",
    "        \n",
    "        running_loss = 0.0\n",
    "\n",
    "        # train on batches of data, assumes you already have train_loader\n",
    "        for batch_i, data in enumerate(train_loader):\n",
    "            # get the input images and their corresponding labels\n",
    "            images = data['image']\n",
    "            key_pts = data['keypoints']\n",
    "\n",
    "            # flatten pts\n",
    "            key_pts = key_pts.view(key_pts.size(0), -1)\n",
    "\n",
    "            # convert variables to floats for regression loss\n",
    "            key_pts = key_pts.type(torch.FloatTensor)\n",
    "            images = images.type(torch.FloatTensor)\n",
    "\n",
    "            # forward pass to get outputs\n",
    "            output_pts = net(images)\n",
    "\n",
    "            # calculate the loss between predicted and target keypoints\n",
    "            loss = criterion(output_pts, key_pts)\n",
    "\n",
    "            # zero the parameter (weight) gradients\n",
    "            optimizer.zero_grad()\n",
    "            \n",
    "            # backward pass to calculate the weight gradients\n",
    "            loss.backward()\n",
    "\n",
    "            # update the weights\n",
    "            optimizer.step()\n",
    "\n",
    "            # print loss statistics\n",
    "            running_loss += loss.item()\n",
    "            loss_training.append(running_loss)\n",
    "            if batch_i % 10 == 9:    # print every 10 batches\n",
    "                print('Epoch: {}, Batch: {}, Avg. Loss: {}'.format(epoch + 1, batch_i+1, running_loss/10))\n",
    "                running_loss = 0.0\n",
    "\n",
    "    print('Finished Training')\n",
    "    return loss_training"
   ]
  },
  {
   "cell_type": "code",
   "execution_count": 99,
   "metadata": {},
   "outputs": [
    {
     "name": "stdout",
     "output_type": "stream",
     "text": [
      "Epoch: 1, Batch: 10, Avg. Loss: 0.5944214224815368\n",
      "Epoch: 1, Batch: 20, Avg. Loss: 0.5957570493221283\n",
      "Epoch: 1, Batch: 30, Avg. Loss: 0.5289344787597656\n",
      "Epoch: 1, Batch: 40, Avg. Loss: 0.6139624655246735\n",
      "Epoch: 1, Batch: 50, Avg. Loss: 0.5664485186338425\n",
      "Epoch: 1, Batch: 60, Avg. Loss: 0.5371781468391419\n",
      "Epoch: 1, Batch: 70, Avg. Loss: 0.567239773273468\n",
      "Epoch: 1, Batch: 80, Avg. Loss: 0.5504704564809799\n",
      "Epoch: 1, Batch: 90, Avg. Loss: 0.546980544924736\n",
      "Epoch: 1, Batch: 100, Avg. Loss: 0.5809082210063934\n",
      "Epoch: 1, Batch: 110, Avg. Loss: 0.577197077870369\n",
      "Epoch: 1, Batch: 120, Avg. Loss: 0.6971553653478623\n",
      "Epoch: 1, Batch: 130, Avg. Loss: 0.5917642891407013\n",
      "Epoch: 1, Batch: 140, Avg. Loss: 0.516482338309288\n",
      "Epoch: 1, Batch: 150, Avg. Loss: 0.5433066695928573\n",
      "Epoch: 1, Batch: 160, Avg. Loss: 0.5302975028753281\n",
      "Epoch: 1, Batch: 170, Avg. Loss: 0.5142172813415528\n",
      "Epoch: 1, Batch: 180, Avg. Loss: 0.5381884694099426\n",
      "Epoch: 1, Batch: 190, Avg. Loss: 0.5219348698854447\n",
      "Epoch: 1, Batch: 200, Avg. Loss: 0.42738363444805144\n",
      "Epoch: 1, Batch: 210, Avg. Loss: 0.49617449939250946\n",
      "Epoch: 1, Batch: 220, Avg. Loss: 0.4256847709417343\n",
      "Epoch: 1, Batch: 230, Avg. Loss: 0.44966264963150027\n",
      "Epoch: 1, Batch: 240, Avg. Loss: 0.4396933525800705\n",
      "Epoch: 1, Batch: 250, Avg. Loss: 0.5474337011575698\n",
      "Epoch: 1, Batch: 260, Avg. Loss: 0.5359516322612763\n",
      "Epoch: 1, Batch: 270, Avg. Loss: 0.3885079324245453\n",
      "Epoch: 1, Batch: 280, Avg. Loss: 0.4017715573310852\n",
      "Epoch: 1, Batch: 290, Avg. Loss: 0.40173181891441345\n",
      "Epoch: 1, Batch: 300, Avg. Loss: 0.36545657813549043\n",
      "Epoch: 1, Batch: 310, Avg. Loss: 0.4203286707401276\n",
      "Epoch: 1, Batch: 320, Avg. Loss: 0.35075432658195493\n",
      "Epoch: 1, Batch: 330, Avg. Loss: 0.40280316174030306\n",
      "Epoch: 1, Batch: 340, Avg. Loss: 0.41341078877449033\n",
      "Epoch: 2, Batch: 10, Avg. Loss: 0.3889605015516281\n",
      "Epoch: 2, Batch: 20, Avg. Loss: 0.4069994390010834\n",
      "Epoch: 2, Batch: 30, Avg. Loss: 0.35775949358940123\n",
      "Epoch: 2, Batch: 40, Avg. Loss: 0.34197016060352325\n",
      "Epoch: 2, Batch: 50, Avg. Loss: 0.3162116795778275\n",
      "Epoch: 2, Batch: 60, Avg. Loss: 0.31080673038959505\n",
      "Epoch: 2, Batch: 70, Avg. Loss: 0.3539493665099144\n",
      "Epoch: 2, Batch: 80, Avg. Loss: 0.34444594085216523\n",
      "Epoch: 2, Batch: 90, Avg. Loss: 0.3396031051874161\n",
      "Epoch: 2, Batch: 100, Avg. Loss: 0.3388367980718613\n",
      "Epoch: 2, Batch: 110, Avg. Loss: 0.31591658294200897\n",
      "Epoch: 2, Batch: 120, Avg. Loss: 0.3751992806792259\n",
      "Epoch: 2, Batch: 130, Avg. Loss: 0.3066344499588013\n",
      "Epoch: 2, Batch: 140, Avg. Loss: 0.3055937007069588\n",
      "Epoch: 2, Batch: 150, Avg. Loss: 0.32047327011823656\n",
      "Epoch: 2, Batch: 160, Avg. Loss: 0.3252348735928535\n",
      "Epoch: 2, Batch: 170, Avg. Loss: 0.47759131491184237\n",
      "Epoch: 2, Batch: 180, Avg. Loss: 0.3656917095184326\n",
      "Epoch: 2, Batch: 190, Avg. Loss: 0.2957524359226227\n",
      "Epoch: 2, Batch: 200, Avg. Loss: 0.3212861567735672\n",
      "Epoch: 2, Batch: 210, Avg. Loss: 0.34490162432193755\n",
      "Epoch: 2, Batch: 220, Avg. Loss: 0.3351647451519966\n",
      "Epoch: 2, Batch: 230, Avg. Loss: 0.3078868702054024\n",
      "Epoch: 2, Batch: 240, Avg. Loss: 0.321263787150383\n",
      "Epoch: 2, Batch: 250, Avg. Loss: 0.29948721677064893\n",
      "Epoch: 2, Batch: 260, Avg. Loss: 0.3307513937354088\n",
      "Epoch: 2, Batch: 270, Avg. Loss: 0.27704003900289537\n",
      "Epoch: 2, Batch: 280, Avg. Loss: 0.30558661073446275\n",
      "Epoch: 2, Batch: 290, Avg. Loss: 0.25543885827064516\n",
      "Epoch: 2, Batch: 300, Avg. Loss: 0.27479182928800583\n",
      "Epoch: 2, Batch: 310, Avg. Loss: 0.27959092557430265\n",
      "Epoch: 2, Batch: 320, Avg. Loss: 0.26604620218276975\n",
      "Epoch: 2, Batch: 330, Avg. Loss: 0.2845410734415054\n",
      "Epoch: 2, Batch: 340, Avg. Loss: 0.26054251492023467\n",
      "Epoch: 3, Batch: 10, Avg. Loss: 0.2883893758058548\n",
      "Epoch: 3, Batch: 20, Avg. Loss: 0.256651271879673\n",
      "Epoch: 3, Batch: 30, Avg. Loss: 0.2458975911140442\n",
      "Epoch: 3, Batch: 40, Avg. Loss: 0.2528163120150566\n",
      "Epoch: 3, Batch: 50, Avg. Loss: 0.2910134047269821\n",
      "Epoch: 3, Batch: 60, Avg. Loss: 0.32703358829021456\n",
      "Epoch: 3, Batch: 70, Avg. Loss: 0.23994373083114623\n",
      "Epoch: 3, Batch: 80, Avg. Loss: 0.32303880602121354\n",
      "Epoch: 3, Batch: 90, Avg. Loss: 0.3206103160977364\n",
      "Epoch: 3, Batch: 100, Avg. Loss: 0.26336810290813445\n",
      "Epoch: 3, Batch: 110, Avg. Loss: 0.2677412211894989\n",
      "Epoch: 3, Batch: 120, Avg. Loss: 0.2702964261174202\n",
      "Epoch: 3, Batch: 130, Avg. Loss: 0.24724029898643493\n",
      "Epoch: 3, Batch: 140, Avg. Loss: 0.26327515095472337\n",
      "Epoch: 3, Batch: 150, Avg. Loss: 0.3003780826926231\n",
      "Epoch: 3, Batch: 160, Avg. Loss: 0.28027763962745667\n",
      "Epoch: 3, Batch: 170, Avg. Loss: 0.29629612118005755\n",
      "Epoch: 3, Batch: 180, Avg. Loss: 0.2840168967843056\n",
      "Epoch: 3, Batch: 190, Avg. Loss: 0.23363398462533952\n",
      "Epoch: 3, Batch: 200, Avg. Loss: 0.35188470035791397\n",
      "Epoch: 3, Batch: 210, Avg. Loss: 0.2771470472216606\n",
      "Epoch: 3, Batch: 220, Avg. Loss: 0.23671895861625672\n",
      "Epoch: 3, Batch: 230, Avg. Loss: 0.27503475844860076\n",
      "Epoch: 3, Batch: 240, Avg. Loss: 0.2659341260790825\n",
      "Epoch: 3, Batch: 250, Avg. Loss: 0.22088927775621414\n",
      "Epoch: 3, Batch: 260, Avg. Loss: 0.2547334641218185\n",
      "Epoch: 3, Batch: 270, Avg. Loss: 0.2553741306066513\n",
      "Epoch: 3, Batch: 280, Avg. Loss: 0.23091888874769212\n",
      "Epoch: 3, Batch: 290, Avg. Loss: 0.22740598320960997\n",
      "Epoch: 3, Batch: 300, Avg. Loss: 0.25444068014621735\n",
      "Epoch: 3, Batch: 310, Avg. Loss: 0.26418037712574005\n",
      "Epoch: 3, Batch: 320, Avg. Loss: 0.3427229568362236\n",
      "Epoch: 3, Batch: 330, Avg. Loss: 0.2904984042048454\n",
      "Epoch: 3, Batch: 340, Avg. Loss: 0.2846559762954712\n",
      "Epoch: 4, Batch: 10, Avg. Loss: 0.2435402363538742\n",
      "Epoch: 4, Batch: 20, Avg. Loss: 0.2611503109335899\n",
      "Epoch: 4, Batch: 30, Avg. Loss: 0.18611463457345961\n",
      "Epoch: 4, Batch: 40, Avg. Loss: 0.22702316492795943\n",
      "Epoch: 4, Batch: 50, Avg. Loss: 0.24700141400098802\n",
      "Epoch: 4, Batch: 60, Avg. Loss: 0.31135281175374985\n",
      "Epoch: 4, Batch: 70, Avg. Loss: 0.22562336623668672\n",
      "Epoch: 4, Batch: 80, Avg. Loss: 0.23936425596475602\n",
      "Epoch: 4, Batch: 90, Avg. Loss: 0.23636820167303085\n",
      "Epoch: 4, Batch: 100, Avg. Loss: 0.2440117970108986\n",
      "Epoch: 4, Batch: 110, Avg. Loss: 0.24783644080162048\n",
      "Epoch: 4, Batch: 120, Avg. Loss: 0.26910851448774337\n",
      "Epoch: 4, Batch: 130, Avg. Loss: 0.263166181743145\n",
      "Epoch: 4, Batch: 140, Avg. Loss: 0.2508921816945076\n",
      "Epoch: 4, Batch: 150, Avg. Loss: 0.2898336321115494\n",
      "Epoch: 4, Batch: 160, Avg. Loss: 0.26111301183700564\n",
      "Epoch: 4, Batch: 170, Avg. Loss: 0.23864991962909698\n",
      "Epoch: 4, Batch: 180, Avg. Loss: 0.30165553987026217\n",
      "Epoch: 4, Batch: 190, Avg. Loss: 0.2289177358150482\n",
      "Epoch: 4, Batch: 200, Avg. Loss: 0.2191322386264801\n",
      "Epoch: 4, Batch: 210, Avg. Loss: 0.2891660422086716\n",
      "Epoch: 4, Batch: 220, Avg. Loss: 0.2690319806337357\n",
      "Epoch: 4, Batch: 230, Avg. Loss: 0.23934424966573714\n",
      "Epoch: 4, Batch: 240, Avg. Loss: 0.22987721711397172\n",
      "Epoch: 4, Batch: 250, Avg. Loss: 0.2377592459321022\n",
      "Epoch: 4, Batch: 260, Avg. Loss: 0.22104150354862212\n",
      "Epoch: 4, Batch: 270, Avg. Loss: 0.26191752403974533\n",
      "Epoch: 4, Batch: 280, Avg. Loss: 0.25735811442136763\n",
      "Epoch: 4, Batch: 290, Avg. Loss: 0.2229961186647415\n",
      "Epoch: 4, Batch: 300, Avg. Loss: 0.22852568626403807\n",
      "Epoch: 4, Batch: 310, Avg. Loss: 0.2182849645614624\n",
      "Epoch: 4, Batch: 320, Avg. Loss: 0.21756564378738402\n",
      "Epoch: 4, Batch: 330, Avg. Loss: 0.25546689331531525\n",
      "Epoch: 4, Batch: 340, Avg. Loss: 0.28352234065532683\n",
      "Epoch: 5, Batch: 10, Avg. Loss: 0.26603540033102036\n",
      "Epoch: 5, Batch: 20, Avg. Loss: 0.32275312542915346\n",
      "Epoch: 5, Batch: 30, Avg. Loss: 0.2095041334629059\n",
      "Epoch: 5, Batch: 40, Avg. Loss: 0.239467853307724\n",
      "Epoch: 5, Batch: 50, Avg. Loss: 0.24462567567825316\n",
      "Epoch: 5, Batch: 60, Avg. Loss: 0.22737652212381362\n",
      "Epoch: 5, Batch: 70, Avg. Loss: 0.2242556557059288\n",
      "Epoch: 5, Batch: 80, Avg. Loss: 0.22035718262195586\n",
      "Epoch: 5, Batch: 90, Avg. Loss: 0.2309705749154091\n",
      "Epoch: 5, Batch: 100, Avg. Loss: 0.2564529240131378\n",
      "Epoch: 5, Batch: 110, Avg. Loss: 0.2392124816775322\n",
      "Epoch: 5, Batch: 120, Avg. Loss: 0.21595504730939866\n",
      "Epoch: 5, Batch: 130, Avg. Loss: 0.21529051512479783\n",
      "Epoch: 5, Batch: 140, Avg. Loss: 0.19928135424852372\n",
      "Epoch: 5, Batch: 150, Avg. Loss: 0.2489335373044014\n",
      "Epoch: 5, Batch: 160, Avg. Loss: 0.1866565689444542\n",
      "Epoch: 5, Batch: 170, Avg. Loss: 0.3241756036877632\n",
      "Epoch: 5, Batch: 180, Avg. Loss: 0.2254846826195717\n",
      "Epoch: 5, Batch: 190, Avg. Loss: 0.22773906588554382\n",
      "Epoch: 5, Batch: 200, Avg. Loss: 0.24739572554826736\n",
      "Epoch: 5, Batch: 210, Avg. Loss: 0.24171570241451262\n",
      "Epoch: 5, Batch: 220, Avg. Loss: 0.22244468182325364\n",
      "Epoch: 5, Batch: 230, Avg. Loss: 0.23947095572948457\n",
      "Epoch: 5, Batch: 240, Avg. Loss: 0.286125011742115\n",
      "Epoch: 5, Batch: 250, Avg. Loss: 0.26911441832780836\n",
      "Epoch: 5, Batch: 260, Avg. Loss: 0.2291236326098442\n",
      "Epoch: 5, Batch: 270, Avg. Loss: 0.23096841126680373\n",
      "Epoch: 5, Batch: 280, Avg. Loss: 0.2477151095867157\n",
      "Epoch: 5, Batch: 290, Avg. Loss: 0.20356522127985954\n",
      "Epoch: 5, Batch: 300, Avg. Loss: 0.2130109652876854\n",
      "Epoch: 5, Batch: 310, Avg. Loss: 0.25297541469335555\n",
      "Epoch: 5, Batch: 320, Avg. Loss: 0.21918587684631347\n",
      "Epoch: 5, Batch: 330, Avg. Loss: 0.38661578893661497\n",
      "Epoch: 5, Batch: 340, Avg. Loss: 0.21944006979465486\n",
      "Epoch: 6, Batch: 10, Avg. Loss: 0.20978665500879287\n",
      "Epoch: 6, Batch: 20, Avg. Loss: 0.22090426534414292\n",
      "Epoch: 6, Batch: 30, Avg. Loss: 0.2517017796635628\n",
      "Epoch: 6, Batch: 40, Avg. Loss: 0.24803979843854904\n",
      "Epoch: 6, Batch: 50, Avg. Loss: 0.22112387269735337\n",
      "Epoch: 6, Batch: 60, Avg. Loss: 0.21643777191638947\n",
      "Epoch: 6, Batch: 70, Avg. Loss: 0.21574018001556397\n",
      "Epoch: 6, Batch: 80, Avg. Loss: 0.3167052552103996\n",
      "Epoch: 6, Batch: 90, Avg. Loss: 0.2345717281103134\n",
      "Epoch: 6, Batch: 100, Avg. Loss: 0.20866314470767974\n",
      "Epoch: 6, Batch: 110, Avg. Loss: 0.2698219373822212\n",
      "Epoch: 6, Batch: 120, Avg. Loss: 0.20989403128623962\n",
      "Epoch: 6, Batch: 130, Avg. Loss: 0.2032659024000168\n",
      "Epoch: 6, Batch: 140, Avg. Loss: 0.23997964560985566\n",
      "Epoch: 6, Batch: 150, Avg. Loss: 0.2295001834630966\n",
      "Epoch: 6, Batch: 160, Avg. Loss: 0.23415565937757493\n",
      "Epoch: 6, Batch: 170, Avg. Loss: 0.26211062371730803\n",
      "Epoch: 6, Batch: 180, Avg. Loss: 0.25909999161958697\n",
      "Epoch: 6, Batch: 190, Avg. Loss: 0.27570151537656784\n",
      "Epoch: 6, Batch: 200, Avg. Loss: 0.2258150666952133\n",
      "Epoch: 6, Batch: 210, Avg. Loss: 0.28014471381902695\n",
      "Epoch: 6, Batch: 220, Avg. Loss: 0.20589932948350906\n",
      "Epoch: 6, Batch: 230, Avg. Loss: 0.2605976894497871\n",
      "Epoch: 6, Batch: 240, Avg. Loss: 0.26364597380161287\n",
      "Epoch: 6, Batch: 250, Avg. Loss: 0.20896108001470565\n",
      "Epoch: 6, Batch: 260, Avg. Loss: 0.23807807564735411\n",
      "Epoch: 6, Batch: 270, Avg. Loss: 0.25318905562162397\n",
      "Epoch: 6, Batch: 280, Avg. Loss: 0.2536923810839653\n",
      "Epoch: 6, Batch: 290, Avg. Loss: 0.193177230656147\n",
      "Epoch: 6, Batch: 300, Avg. Loss: 0.2432970866560936\n",
      "Epoch: 6, Batch: 310, Avg. Loss: 0.28173641860485077\n",
      "Epoch: 6, Batch: 320, Avg. Loss: 0.2540343329310417\n",
      "Epoch: 6, Batch: 330, Avg. Loss: 0.1847903050482273\n",
      "Epoch: 6, Batch: 340, Avg. Loss: 0.21116872131824493\n",
      "Epoch: 7, Batch: 10, Avg. Loss: 0.25018679201602934\n",
      "Epoch: 7, Batch: 20, Avg. Loss: 0.22227768748998641\n",
      "Epoch: 7, Batch: 30, Avg. Loss: 0.18872067481279373\n",
      "Epoch: 7, Batch: 40, Avg. Loss: 0.20605832785367967\n",
      "Epoch: 7, Batch: 50, Avg. Loss: 0.2022937446832657\n",
      "Epoch: 7, Batch: 60, Avg. Loss: 0.19435376524925232\n",
      "Epoch: 7, Batch: 70, Avg. Loss: 0.22618135958909988\n",
      "Epoch: 7, Batch: 80, Avg. Loss: 0.21856559067964554\n",
      "Epoch: 7, Batch: 90, Avg. Loss: 0.23899885267019272\n",
      "Epoch: 7, Batch: 100, Avg. Loss: 0.26410519182682035\n",
      "Epoch: 7, Batch: 110, Avg. Loss: 0.20076871663331985\n",
      "Epoch: 7, Batch: 120, Avg. Loss: 0.2345815882086754\n",
      "Epoch: 7, Batch: 130, Avg. Loss: 0.21414560303092003\n",
      "Epoch: 7, Batch: 140, Avg. Loss: 0.20555189475417138\n",
      "Epoch: 7, Batch: 150, Avg. Loss: 0.21060589849948883\n",
      "Epoch: 7, Batch: 160, Avg. Loss: 0.23543852418661118\n",
      "Epoch: 7, Batch: 170, Avg. Loss: 0.2494921289384365\n",
      "Epoch: 7, Batch: 180, Avg. Loss: 0.2688792996108532\n",
      "Epoch: 7, Batch: 190, Avg. Loss: 0.22376662045717238\n",
      "Epoch: 7, Batch: 200, Avg. Loss: 0.28058443814516065\n",
      "Epoch: 7, Batch: 210, Avg. Loss: 0.21892692148685455\n",
      "Epoch: 7, Batch: 220, Avg. Loss: 0.2180117264389992\n",
      "Epoch: 7, Batch: 230, Avg. Loss: 0.22700288742780686\n",
      "Epoch: 7, Batch: 240, Avg. Loss: 0.18848877027630806\n",
      "Epoch: 7, Batch: 250, Avg. Loss: 0.27483054250478745\n",
      "Epoch: 7, Batch: 260, Avg. Loss: 0.2100255310535431\n",
      "Epoch: 7, Batch: 270, Avg. Loss: 0.27531186044216155\n",
      "Epoch: 7, Batch: 280, Avg. Loss: 0.23268144130706786\n",
      "Epoch: 7, Batch: 290, Avg. Loss: 0.2267166033387184\n",
      "Epoch: 7, Batch: 300, Avg. Loss: 0.19696315228939057\n",
      "Epoch: 7, Batch: 310, Avg. Loss: 0.2149027943611145\n",
      "Epoch: 7, Batch: 320, Avg. Loss: 0.22581778466701508\n",
      "Epoch: 7, Batch: 330, Avg. Loss: 0.20861275345087052\n",
      "Epoch: 7, Batch: 340, Avg. Loss: 0.2585300490260124\n",
      "Epoch: 8, Batch: 10, Avg. Loss: 0.2391080766916275\n",
      "Epoch: 8, Batch: 20, Avg. Loss: 0.2345819354057312\n",
      "Epoch: 8, Batch: 30, Avg. Loss: 0.19670959562063217\n",
      "Epoch: 8, Batch: 40, Avg. Loss: 0.19351994767785072\n",
      "Epoch: 8, Batch: 50, Avg. Loss: 0.2718462571501732\n",
      "Epoch: 8, Batch: 60, Avg. Loss: 0.2414543956518173\n",
      "Epoch: 8, Batch: 70, Avg. Loss: 0.23195210993289947\n",
      "Epoch: 8, Batch: 80, Avg. Loss: 0.22675409615039827\n",
      "Epoch: 8, Batch: 90, Avg. Loss: 0.23858922868967056\n",
      "Epoch: 8, Batch: 100, Avg. Loss: 0.23090754747390746\n",
      "Epoch: 8, Batch: 110, Avg. Loss: 0.19047749266028405\n",
      "Epoch: 8, Batch: 120, Avg. Loss: 0.226721078902483\n",
      "Epoch: 8, Batch: 130, Avg. Loss: 0.2153515860438347\n",
      "Epoch: 8, Batch: 140, Avg. Loss: 0.19315624609589577\n",
      "Epoch: 8, Batch: 150, Avg. Loss: 0.21980809271335602\n",
      "Epoch: 8, Batch: 160, Avg. Loss: 0.24517599791288375\n",
      "Epoch: 8, Batch: 170, Avg. Loss: 0.21363649368286133\n",
      "Epoch: 8, Batch: 180, Avg. Loss: 0.23850324898958206\n",
      "Epoch: 8, Batch: 190, Avg. Loss: 0.27486023455858233\n",
      "Epoch: 8, Batch: 200, Avg. Loss: 0.2364774003624916\n",
      "Epoch: 8, Batch: 210, Avg. Loss: 0.2338515415787697\n",
      "Epoch: 8, Batch: 220, Avg. Loss: 0.22056029438972474\n",
      "Epoch: 8, Batch: 230, Avg. Loss: 0.20190359205007552\n",
      "Epoch: 8, Batch: 240, Avg. Loss: 0.2086295247077942\n",
      "Epoch: 8, Batch: 250, Avg. Loss: 0.3094734951853752\n",
      "Epoch: 8, Batch: 260, Avg. Loss: 0.25556820183992385\n",
      "Epoch: 8, Batch: 270, Avg. Loss: 0.18577632308006287\n",
      "Epoch: 8, Batch: 280, Avg. Loss: 0.2356410540640354\n",
      "Epoch: 8, Batch: 290, Avg. Loss: 0.2205257758498192\n",
      "Epoch: 8, Batch: 300, Avg. Loss: 0.2363773390650749\n",
      "Epoch: 8, Batch: 310, Avg. Loss: 0.21394821777939796\n",
      "Epoch: 8, Batch: 320, Avg. Loss: 0.22720898538827897\n",
      "Epoch: 8, Batch: 330, Avg. Loss: 0.20700113475322723\n",
      "Epoch: 8, Batch: 340, Avg. Loss: 0.2089950770139694\n",
      "Epoch: 9, Batch: 10, Avg. Loss: 0.22017226591706276\n",
      "Epoch: 9, Batch: 20, Avg. Loss: 0.20577910989522935\n",
      "Epoch: 9, Batch: 30, Avg. Loss: 0.21568553298711776\n",
      "Epoch: 9, Batch: 40, Avg. Loss: 0.21100981384515763\n",
      "Epoch: 9, Batch: 50, Avg. Loss: 0.1996905893087387\n",
      "Epoch: 9, Batch: 60, Avg. Loss: 0.26043336242437365\n",
      "Epoch: 9, Batch: 70, Avg. Loss: 0.19681703746318818\n",
      "Epoch: 9, Batch: 80, Avg. Loss: 0.23340318202972413\n",
      "Epoch: 9, Batch: 90, Avg. Loss: 0.312536945939064\n",
      "Epoch: 9, Batch: 100, Avg. Loss: 0.26975639909505844\n",
      "Epoch: 9, Batch: 110, Avg. Loss: 0.23750840723514557\n",
      "Epoch: 9, Batch: 120, Avg. Loss: 0.22018445879220963\n",
      "Epoch: 9, Batch: 130, Avg. Loss: 0.1940087229013443\n",
      "Epoch: 9, Batch: 140, Avg. Loss: 0.1662164032459259\n",
      "Epoch: 9, Batch: 150, Avg. Loss: 0.20511818528175355\n",
      "Epoch: 9, Batch: 160, Avg. Loss: 0.2303489476442337\n",
      "Epoch: 9, Batch: 170, Avg. Loss: 0.21150637716054915\n",
      "Epoch: 9, Batch: 180, Avg. Loss: 0.26257442831993105\n",
      "Epoch: 9, Batch: 190, Avg. Loss: 0.27294076085090635\n",
      "Epoch: 9, Batch: 200, Avg. Loss: 0.21807972863316535\n",
      "Epoch: 9, Batch: 210, Avg. Loss: 0.23536741659045218\n",
      "Epoch: 9, Batch: 220, Avg. Loss: 0.21578366607427596\n",
      "Epoch: 9, Batch: 230, Avg. Loss: 0.2110465496778488\n",
      "Epoch: 9, Batch: 240, Avg. Loss: 0.22890832275152206\n",
      "Epoch: 9, Batch: 250, Avg. Loss: 0.20753531605005265\n",
      "Epoch: 9, Batch: 260, Avg. Loss: 0.20133925676345826\n",
      "Epoch: 9, Batch: 270, Avg. Loss: 0.23598234206438065\n",
      "Epoch: 9, Batch: 280, Avg. Loss: 0.15828678533434867\n",
      "Epoch: 9, Batch: 290, Avg. Loss: 0.22937809079885482\n",
      "Epoch: 9, Batch: 300, Avg. Loss: 0.20580712854862213\n",
      "Epoch: 9, Batch: 310, Avg. Loss: 0.20427090674638748\n",
      "Epoch: 9, Batch: 320, Avg. Loss: 0.20896601527929307\n",
      "Epoch: 9, Batch: 330, Avg. Loss: 0.2226000562310219\n",
      "Epoch: 9, Batch: 340, Avg. Loss: 0.1929511845111847\n",
      "Epoch: 10, Batch: 10, Avg. Loss: 0.20827397257089614\n",
      "Epoch: 10, Batch: 20, Avg. Loss: 0.23848305866122246\n",
      "Epoch: 10, Batch: 30, Avg. Loss: 0.2112908899784088\n",
      "Epoch: 10, Batch: 40, Avg. Loss: 0.1989161640405655\n",
      "Epoch: 10, Batch: 50, Avg. Loss: 0.2050682321190834\n",
      "Epoch: 10, Batch: 60, Avg. Loss: 0.21208230257034302\n",
      "Epoch: 10, Batch: 70, Avg. Loss: 0.16709107905626297\n",
      "Epoch: 10, Batch: 80, Avg. Loss: 0.24164246916770935\n",
      "Epoch: 10, Batch: 90, Avg. Loss: 0.22681700736284255\n",
      "Epoch: 10, Batch: 100, Avg. Loss: 0.22208652049303054\n",
      "Epoch: 10, Batch: 110, Avg. Loss: 0.36503961831331255\n",
      "Epoch: 10, Batch: 120, Avg. Loss: 0.2061394162476063\n",
      "Epoch: 10, Batch: 130, Avg. Loss: 0.18154896944761276\n",
      "Epoch: 10, Batch: 140, Avg. Loss: 0.21621117144823074\n",
      "Epoch: 10, Batch: 150, Avg. Loss: 0.22316053211688996\n",
      "Epoch: 10, Batch: 160, Avg. Loss: 0.2194481074810028\n",
      "Epoch: 10, Batch: 170, Avg. Loss: 0.2195718005299568\n",
      "Epoch: 10, Batch: 180, Avg. Loss: 0.21019256263971328\n",
      "Epoch: 10, Batch: 190, Avg. Loss: 0.25925938636064527\n",
      "Epoch: 10, Batch: 200, Avg. Loss: 0.2422144815325737\n",
      "Epoch: 10, Batch: 210, Avg. Loss: 0.19431045427918434\n",
      "Epoch: 10, Batch: 220, Avg. Loss: 0.23850270211696625\n",
      "Epoch: 10, Batch: 230, Avg. Loss: 0.23589212447404861\n",
      "Epoch: 10, Batch: 240, Avg. Loss: 0.1844770036637783\n",
      "Epoch: 10, Batch: 250, Avg. Loss: 0.2334194950759411\n",
      "Epoch: 10, Batch: 260, Avg. Loss: 0.21278101205825806\n",
      "Epoch: 10, Batch: 270, Avg. Loss: 0.17966644018888472\n",
      "Epoch: 10, Batch: 280, Avg. Loss: 0.18088994473218917\n",
      "Epoch: 10, Batch: 290, Avg. Loss: 0.18020460307598113\n",
      "Epoch: 10, Batch: 300, Avg. Loss: 0.1900414541363716\n",
      "Epoch: 10, Batch: 310, Avg. Loss: 0.18006785064935685\n",
      "Epoch: 10, Batch: 320, Avg. Loss: 0.1919259950518608\n",
      "Epoch: 10, Batch: 330, Avg. Loss: 0.19719844311475754\n",
      "Epoch: 10, Batch: 340, Avg. Loss: 0.42892371863126755\n",
      "Epoch: 11, Batch: 10, Avg. Loss: 0.26355247050523756\n",
      "Epoch: 11, Batch: 20, Avg. Loss: 0.24536619931459427\n",
      "Epoch: 11, Batch: 30, Avg. Loss: 0.22986791878938675\n",
      "Epoch: 11, Batch: 40, Avg. Loss: 0.21677838861942292\n",
      "Epoch: 11, Batch: 50, Avg. Loss: 0.17845401018857956\n",
      "Epoch: 11, Batch: 60, Avg. Loss: 0.1848000168800354\n",
      "Epoch: 11, Batch: 70, Avg. Loss: 0.26073878929018973\n",
      "Epoch: 11, Batch: 80, Avg. Loss: 0.19823581278324126\n",
      "Epoch: 11, Batch: 90, Avg. Loss: 0.37213173434138297\n",
      "Epoch: 11, Batch: 100, Avg. Loss: 0.24616083204746247\n",
      "Epoch: 11, Batch: 110, Avg. Loss: 0.2432388186454773\n",
      "Epoch: 11, Batch: 120, Avg. Loss: 0.19822295159101486\n",
      "Epoch: 11, Batch: 130, Avg. Loss: 0.17735957503318786\n",
      "Epoch: 11, Batch: 140, Avg. Loss: 0.19433209002017976\n",
      "Epoch: 11, Batch: 150, Avg. Loss: 0.24660049378871918\n",
      "Epoch: 11, Batch: 160, Avg. Loss: 0.21736679524183272\n",
      "Epoch: 11, Batch: 170, Avg. Loss: 0.28331383019685746\n",
      "Epoch: 11, Batch: 180, Avg. Loss: 0.2064376100897789\n",
      "Epoch: 11, Batch: 190, Avg. Loss: 0.21556659713387488\n",
      "Epoch: 11, Batch: 200, Avg. Loss: 0.2110072061419487\n",
      "Epoch: 11, Batch: 210, Avg. Loss: 0.20380515307188035\n",
      "Epoch: 11, Batch: 220, Avg. Loss: 0.23270439952611924\n",
      "Epoch: 11, Batch: 230, Avg. Loss: 0.2841388449072838\n",
      "Epoch: 11, Batch: 240, Avg. Loss: 0.20394097417593002\n",
      "Epoch: 11, Batch: 250, Avg. Loss: 0.23859367966651918\n",
      "Epoch: 11, Batch: 260, Avg. Loss: 0.20362296029925347\n",
      "Epoch: 11, Batch: 270, Avg. Loss: 0.17475202009081842\n",
      "Epoch: 11, Batch: 280, Avg. Loss: 0.1984798789024353\n",
      "Epoch: 11, Batch: 290, Avg. Loss: 0.19079365879297255\n",
      "Epoch: 11, Batch: 300, Avg. Loss: 0.21372417137026786\n",
      "Epoch: 11, Batch: 310, Avg. Loss: 0.21830416172742845\n",
      "Epoch: 11, Batch: 320, Avg. Loss: 0.1991383232176304\n",
      "Epoch: 11, Batch: 330, Avg. Loss: 0.1985810950398445\n",
      "Epoch: 11, Batch: 340, Avg. Loss: 0.2509626284241676\n",
      "Epoch: 12, Batch: 10, Avg. Loss: 0.18565865904092788\n",
      "Epoch: 12, Batch: 20, Avg. Loss: 0.27258366644382476\n",
      "Epoch: 12, Batch: 30, Avg. Loss: 0.17950475960969925\n",
      "Epoch: 12, Batch: 40, Avg. Loss: 0.24773697778582573\n",
      "Epoch: 12, Batch: 50, Avg. Loss: 0.1993906542658806\n",
      "Epoch: 12, Batch: 60, Avg. Loss: 0.19563229084014894\n",
      "Epoch: 12, Batch: 70, Avg. Loss: 0.20152849704027176\n",
      "Epoch: 12, Batch: 80, Avg. Loss: 0.33038977682590487\n",
      "Epoch: 12, Batch: 90, Avg. Loss: 0.1910250574350357\n",
      "Epoch: 12, Batch: 100, Avg. Loss: 0.19093692749738694\n",
      "Epoch: 12, Batch: 110, Avg. Loss: 0.20565119981765748\n",
      "Epoch: 12, Batch: 120, Avg. Loss: 0.20351164788007736\n",
      "Epoch: 12, Batch: 130, Avg. Loss: 0.18777670860290527\n",
      "Epoch: 12, Batch: 140, Avg. Loss: 0.19454999268054962\n",
      "Epoch: 12, Batch: 150, Avg. Loss: 0.2078655481338501\n",
      "Epoch: 12, Batch: 160, Avg. Loss: 0.2350186824798584\n",
      "Epoch: 12, Batch: 170, Avg. Loss: 0.21308702528476714\n",
      "Epoch: 12, Batch: 180, Avg. Loss: 0.21645990759134293\n",
      "Epoch: 12, Batch: 190, Avg. Loss: 0.26647737473249433\n",
      "Epoch: 12, Batch: 200, Avg. Loss: 0.25699311047792434\n",
      "Epoch: 12, Batch: 210, Avg. Loss: 0.20036738365888596\n",
      "Epoch: 12, Batch: 220, Avg. Loss: 0.19016099646687507\n",
      "Epoch: 12, Batch: 230, Avg. Loss: 0.254516239464283\n",
      "Epoch: 12, Batch: 240, Avg. Loss: 0.19282102286815644\n",
      "Epoch: 12, Batch: 250, Avg. Loss: 0.1958486370742321\n",
      "Epoch: 12, Batch: 260, Avg. Loss: 0.23241828829050065\n",
      "Epoch: 12, Batch: 270, Avg. Loss: 0.22320182770490646\n",
      "Epoch: 12, Batch: 280, Avg. Loss: 0.1951296016573906\n",
      "Epoch: 12, Batch: 290, Avg. Loss: 0.2003860056400299\n",
      "Epoch: 12, Batch: 300, Avg. Loss: 0.22218355014920235\n",
      "Epoch: 12, Batch: 310, Avg. Loss: 0.15847895443439483\n",
      "Epoch: 12, Batch: 320, Avg. Loss: 0.2024638071656227\n",
      "Epoch: 12, Batch: 330, Avg. Loss: 0.20781417787075043\n",
      "Epoch: 12, Batch: 340, Avg. Loss: 0.2309363901615143\n",
      "Epoch: 13, Batch: 10, Avg. Loss: 0.19455114305019378\n",
      "Epoch: 13, Batch: 20, Avg. Loss: 0.26124603003263475\n",
      "Epoch: 13, Batch: 30, Avg. Loss: 0.18507867455482482\n",
      "Epoch: 13, Batch: 40, Avg. Loss: 0.22949329465627671\n",
      "Epoch: 13, Batch: 50, Avg. Loss: 0.18463802561163903\n",
      "Epoch: 13, Batch: 60, Avg. Loss: 0.20569187253713608\n",
      "Epoch: 13, Batch: 70, Avg. Loss: 0.31740871220827105\n",
      "Epoch: 13, Batch: 80, Avg. Loss: 0.22115828171372415\n",
      "Epoch: 13, Batch: 90, Avg. Loss: 0.19082735925912858\n",
      "Epoch: 13, Batch: 100, Avg. Loss: 0.1894834406673908\n",
      "Epoch: 13, Batch: 110, Avg. Loss: 0.18099919334053993\n",
      "Epoch: 13, Batch: 120, Avg. Loss: 0.20420243442058564\n",
      "Epoch: 13, Batch: 130, Avg. Loss: 0.2072705179452896\n",
      "Epoch: 13, Batch: 140, Avg. Loss: 0.2265457034111023\n",
      "Epoch: 13, Batch: 150, Avg. Loss: 0.16827370300889016\n",
      "Epoch: 13, Batch: 160, Avg. Loss: 0.1926032818853855\n",
      "Epoch: 13, Batch: 170, Avg. Loss: 0.19991810619831085\n",
      "Epoch: 13, Batch: 180, Avg. Loss: 0.2952555626630783\n",
      "Epoch: 13, Batch: 190, Avg. Loss: 0.22676310390233995\n",
      "Epoch: 13, Batch: 200, Avg. Loss: 0.19253336936235427\n",
      "Epoch: 13, Batch: 210, Avg. Loss: 0.21868527978658675\n",
      "Epoch: 13, Batch: 220, Avg. Loss: 0.1900396004319191\n",
      "Epoch: 13, Batch: 230, Avg. Loss: 0.1889229819178581\n",
      "Epoch: 13, Batch: 240, Avg. Loss: 0.17814232558012008\n",
      "Epoch: 13, Batch: 250, Avg. Loss: 0.2045201450586319\n",
      "Epoch: 13, Batch: 260, Avg. Loss: 0.2587286040186882\n",
      "Epoch: 13, Batch: 270, Avg. Loss: 0.23485176786780357\n",
      "Epoch: 13, Batch: 280, Avg. Loss: 0.171159315854311\n",
      "Epoch: 13, Batch: 290, Avg. Loss: 0.21029166281223297\n",
      "Epoch: 13, Batch: 300, Avg. Loss: 0.2265119157731533\n",
      "Epoch: 13, Batch: 310, Avg. Loss: 0.16560883820056915\n",
      "Epoch: 13, Batch: 320, Avg. Loss: 0.22377820685505867\n",
      "Epoch: 13, Batch: 330, Avg. Loss: 0.20409927517175674\n",
      "Epoch: 13, Batch: 340, Avg. Loss: 0.23018539994955062\n",
      "Epoch: 14, Batch: 10, Avg. Loss: 0.20748248770833017\n",
      "Epoch: 14, Batch: 20, Avg. Loss: 0.2029456228017807\n",
      "Epoch: 14, Batch: 30, Avg. Loss: 0.16589007377624512\n",
      "Epoch: 14, Batch: 40, Avg. Loss: 0.2103915259242058\n",
      "Epoch: 14, Batch: 50, Avg. Loss: 0.23066651225090026\n",
      "Epoch: 14, Batch: 60, Avg. Loss: 0.22922481521964072\n",
      "Epoch: 14, Batch: 70, Avg. Loss: 0.18099445775151252\n",
      "Epoch: 14, Batch: 80, Avg. Loss: 0.22067796289920807\n",
      "Epoch: 14, Batch: 90, Avg. Loss: 0.20151377618312835\n",
      "Epoch: 14, Batch: 100, Avg. Loss: 0.1782349281013012\n",
      "Epoch: 14, Batch: 110, Avg. Loss: 0.2659589618444443\n",
      "Epoch: 14, Batch: 120, Avg. Loss: 0.20566099584102632\n",
      "Epoch: 14, Batch: 130, Avg. Loss: 0.17506819739937782\n",
      "Epoch: 14, Batch: 140, Avg. Loss: 0.20333131551742553\n",
      "Epoch: 14, Batch: 150, Avg. Loss: 0.2097866028547287\n",
      "Epoch: 14, Batch: 160, Avg. Loss: 0.21042779907584191\n",
      "Epoch: 14, Batch: 170, Avg. Loss: 0.18814341649413108\n",
      "Epoch: 14, Batch: 180, Avg. Loss: 0.22841047793626784\n",
      "Epoch: 14, Batch: 190, Avg. Loss: 0.1811347596347332\n",
      "Epoch: 14, Batch: 200, Avg. Loss: 0.20435447096824647\n",
      "Epoch: 14, Batch: 210, Avg. Loss: 0.20795546025037764\n",
      "Epoch: 14, Batch: 220, Avg. Loss: 0.16949297711253167\n",
      "Epoch: 14, Batch: 230, Avg. Loss: 0.1878589481115341\n",
      "Epoch: 14, Batch: 240, Avg. Loss: 0.17770298421382905\n",
      "Epoch: 14, Batch: 250, Avg. Loss: 0.22903565019369126\n",
      "Epoch: 14, Batch: 260, Avg. Loss: 0.23219258487224578\n",
      "Epoch: 14, Batch: 270, Avg. Loss: 0.21585769057273865\n",
      "Epoch: 14, Batch: 280, Avg. Loss: 0.22250591367483138\n",
      "Epoch: 14, Batch: 290, Avg. Loss: 0.18362936675548552\n",
      "Epoch: 14, Batch: 300, Avg. Loss: 0.21946385204792024\n",
      "Epoch: 14, Batch: 310, Avg. Loss: 0.23148669227957724\n",
      "Epoch: 14, Batch: 320, Avg. Loss: 0.1947222113609314\n",
      "Epoch: 14, Batch: 330, Avg. Loss: 0.18463709130883216\n",
      "Epoch: 14, Batch: 340, Avg. Loss: 0.20525289848446845\n",
      "Epoch: 15, Batch: 10, Avg. Loss: 0.19205731973052026\n",
      "Epoch: 15, Batch: 20, Avg. Loss: 0.2764929547905922\n",
      "Epoch: 15, Batch: 30, Avg. Loss: 0.25058281272649763\n",
      "Epoch: 15, Batch: 40, Avg. Loss: 0.1891053020954132\n",
      "Epoch: 15, Batch: 50, Avg. Loss: 0.18857740685343743\n",
      "Epoch: 15, Batch: 60, Avg. Loss: 0.15497759059071542\n",
      "Epoch: 15, Batch: 70, Avg. Loss: 0.15282011926174163\n",
      "Epoch: 15, Batch: 80, Avg. Loss: 0.20076993703842164\n",
      "Epoch: 15, Batch: 90, Avg. Loss: 0.19445257335901261\n",
      "Epoch: 15, Batch: 100, Avg. Loss: 0.17378282099962233\n",
      "Epoch: 15, Batch: 110, Avg. Loss: 0.19034415483474731\n",
      "Epoch: 15, Batch: 120, Avg. Loss: 0.2636209040880203\n",
      "Epoch: 15, Batch: 130, Avg. Loss: 0.18094150424003602\n",
      "Epoch: 15, Batch: 140, Avg. Loss: 0.16885932460427283\n",
      "Epoch: 15, Batch: 150, Avg. Loss: 0.22721774876117706\n",
      "Epoch: 15, Batch: 160, Avg. Loss: 0.1913468100130558\n",
      "Epoch: 15, Batch: 170, Avg. Loss: 0.23437587320804595\n",
      "Epoch: 15, Batch: 180, Avg. Loss: 0.1750137187540531\n",
      "Epoch: 15, Batch: 190, Avg. Loss: 0.16906864643096925\n",
      "Epoch: 15, Batch: 200, Avg. Loss: 0.15737244784832\n",
      "Epoch: 15, Batch: 210, Avg. Loss: 0.21391969323158264\n",
      "Epoch: 15, Batch: 220, Avg. Loss: 0.17050736472010614\n",
      "Epoch: 15, Batch: 230, Avg. Loss: 0.22341410294175149\n",
      "Epoch: 15, Batch: 240, Avg. Loss: 0.20486498028039932\n",
      "Epoch: 15, Batch: 250, Avg. Loss: 0.24597654342651368\n",
      "Epoch: 15, Batch: 260, Avg. Loss: 0.19908692240715026\n",
      "Epoch: 15, Batch: 270, Avg. Loss: 0.19693829119205475\n",
      "Epoch: 15, Batch: 280, Avg. Loss: 0.2059156745672226\n",
      "Epoch: 15, Batch: 290, Avg. Loss: 0.1983465388417244\n",
      "Epoch: 15, Batch: 300, Avg. Loss: 0.22880569398403167\n",
      "Epoch: 15, Batch: 310, Avg. Loss: 0.1808007001876831\n",
      "Epoch: 15, Batch: 320, Avg. Loss: 0.21370365023612975\n",
      "Epoch: 15, Batch: 330, Avg. Loss: 0.21705149114131927\n",
      "Epoch: 15, Batch: 340, Avg. Loss: 0.18769718408584596\n",
      "Epoch: 16, Batch: 10, Avg. Loss: 0.19580460637807845\n",
      "Epoch: 16, Batch: 20, Avg. Loss: 0.22698930650949478\n",
      "Epoch: 16, Batch: 30, Avg. Loss: 0.15841103568673134\n",
      "Epoch: 16, Batch: 40, Avg. Loss: 0.3386593028903008\n",
      "Epoch: 16, Batch: 50, Avg. Loss: 0.18137283697724343\n",
      "Epoch: 16, Batch: 60, Avg. Loss: 0.16619259715080262\n",
      "Epoch: 16, Batch: 70, Avg. Loss: 0.20131138265132903\n",
      "Epoch: 16, Batch: 80, Avg. Loss: 0.20565709471702576\n",
      "Epoch: 16, Batch: 90, Avg. Loss: 0.17893409207463265\n",
      "Epoch: 16, Batch: 100, Avg. Loss: 0.2829861223697662\n",
      "Epoch: 16, Batch: 110, Avg. Loss: 0.20040599256753922\n",
      "Epoch: 16, Batch: 120, Avg. Loss: 0.18833313286304473\n",
      "Epoch: 16, Batch: 130, Avg. Loss: 0.17264158502221108\n",
      "Epoch: 16, Batch: 140, Avg. Loss: 0.19552769809961318\n",
      "Epoch: 16, Batch: 150, Avg. Loss: 0.1739270232617855\n",
      "Epoch: 16, Batch: 160, Avg. Loss: 0.2030138410627842\n",
      "Epoch: 16, Batch: 170, Avg. Loss: 0.21718513071537018\n",
      "Epoch: 16, Batch: 180, Avg. Loss: 0.20216808319091797\n",
      "Epoch: 16, Batch: 190, Avg. Loss: 0.19339259564876557\n",
      "Epoch: 16, Batch: 200, Avg. Loss: 0.2116442248225212\n",
      "Epoch: 16, Batch: 210, Avg. Loss: 0.18920608684420587\n",
      "Epoch: 16, Batch: 220, Avg. Loss: 0.19063802883028985\n",
      "Epoch: 16, Batch: 230, Avg. Loss: 0.22140983641147613\n",
      "Epoch: 16, Batch: 240, Avg. Loss: 0.17479426711797713\n",
      "Epoch: 16, Batch: 250, Avg. Loss: 0.1917364105582237\n",
      "Epoch: 16, Batch: 260, Avg. Loss: 0.1992914393544197\n",
      "Epoch: 16, Batch: 270, Avg. Loss: 0.18981229960918428\n",
      "Epoch: 16, Batch: 280, Avg. Loss: 0.1653204642236233\n",
      "Epoch: 16, Batch: 290, Avg. Loss: 0.18887391090393066\n",
      "Epoch: 16, Batch: 300, Avg. Loss: 0.209048093855381\n",
      "Epoch: 16, Batch: 310, Avg. Loss: 0.22494033724069595\n",
      "Epoch: 16, Batch: 320, Avg. Loss: 0.13792659863829612\n",
      "Epoch: 16, Batch: 330, Avg. Loss: 0.194828400015831\n",
      "Epoch: 16, Batch: 340, Avg. Loss: 0.23164393454790116\n",
      "Epoch: 17, Batch: 10, Avg. Loss: 0.19741625487804412\n",
      "Epoch: 17, Batch: 20, Avg. Loss: 0.17508163601160048\n",
      "Epoch: 17, Batch: 30, Avg. Loss: 0.20530512630939485\n",
      "Epoch: 17, Batch: 40, Avg. Loss: 0.22041549682617187\n",
      "Epoch: 17, Batch: 50, Avg. Loss: 0.21224404722452164\n",
      "Epoch: 17, Batch: 60, Avg. Loss: 0.1779238574206829\n",
      "Epoch: 17, Batch: 70, Avg. Loss: 0.2529007762670517\n",
      "Epoch: 17, Batch: 80, Avg. Loss: 0.19930856227874755\n",
      "Epoch: 17, Batch: 90, Avg. Loss: 0.20872040539979936\n",
      "Epoch: 17, Batch: 100, Avg. Loss: 0.20336412787437438\n",
      "Epoch: 17, Batch: 110, Avg. Loss: 0.17769238129258155\n",
      "Epoch: 17, Batch: 120, Avg. Loss: 0.24382261112332343\n",
      "Epoch: 17, Batch: 130, Avg. Loss: 0.1762450911104679\n",
      "Epoch: 17, Batch: 140, Avg. Loss: 0.18475612848997117\n",
      "Epoch: 17, Batch: 150, Avg. Loss: 0.21707848757505416\n",
      "Epoch: 17, Batch: 160, Avg. Loss: 0.3237569287419319\n",
      "Epoch: 17, Batch: 170, Avg. Loss: 0.20916861593723296\n",
      "Epoch: 17, Batch: 180, Avg. Loss: 0.22434086948633195\n",
      "Epoch: 17, Batch: 190, Avg. Loss: 0.19267200008034707\n",
      "Epoch: 17, Batch: 200, Avg. Loss: 0.2108609914779663\n",
      "Epoch: 17, Batch: 210, Avg. Loss: 0.15810906067490577\n",
      "Epoch: 17, Batch: 220, Avg. Loss: 0.14783193096518515\n",
      "Epoch: 17, Batch: 230, Avg. Loss: 0.2222152441740036\n",
      "Epoch: 17, Batch: 240, Avg. Loss: 0.16661001592874528\n",
      "Epoch: 17, Batch: 250, Avg. Loss: 0.1955993577837944\n",
      "Epoch: 17, Batch: 260, Avg. Loss: 0.17503296807408333\n",
      "Epoch: 17, Batch: 270, Avg. Loss: 0.20260582864284515\n",
      "Epoch: 17, Batch: 280, Avg. Loss: 0.18769056349992752\n",
      "Epoch: 17, Batch: 290, Avg. Loss: 0.15353318750858308\n",
      "Epoch: 17, Batch: 300, Avg. Loss: 0.19257044196128845\n",
      "Epoch: 17, Batch: 310, Avg. Loss: 0.1824742592871189\n",
      "Epoch: 17, Batch: 320, Avg. Loss: 0.18208175674080848\n",
      "Epoch: 17, Batch: 330, Avg. Loss: 0.20833564177155495\n",
      "Epoch: 17, Batch: 340, Avg. Loss: 0.21600649654865264\n",
      "Epoch: 18, Batch: 10, Avg. Loss: 0.24141833186149597\n",
      "Epoch: 18, Batch: 20, Avg. Loss: 0.18498310446739197\n",
      "Epoch: 18, Batch: 30, Avg. Loss: 0.16359045058488847\n",
      "Epoch: 18, Batch: 40, Avg. Loss: 0.19617493450641632\n",
      "Epoch: 18, Batch: 50, Avg. Loss: 0.1937105879187584\n",
      "Epoch: 18, Batch: 60, Avg. Loss: 0.20901311933994293\n",
      "Epoch: 18, Batch: 70, Avg. Loss: 0.17014746963977814\n",
      "Epoch: 18, Batch: 80, Avg. Loss: 0.2053685024380684\n",
      "Epoch: 18, Batch: 90, Avg. Loss: 0.22723577842116355\n",
      "Epoch: 18, Batch: 100, Avg. Loss: 0.15497259125113488\n",
      "Epoch: 18, Batch: 110, Avg. Loss: 0.20632304027676582\n",
      "Epoch: 18, Batch: 120, Avg. Loss: 0.21517439037561417\n",
      "Epoch: 18, Batch: 130, Avg. Loss: 0.23548256009817123\n",
      "Epoch: 18, Batch: 140, Avg. Loss: 0.2594139605760574\n",
      "Epoch: 18, Batch: 150, Avg. Loss: 0.2152951791882515\n",
      "Epoch: 18, Batch: 160, Avg. Loss: 0.23311572447419165\n",
      "Epoch: 18, Batch: 170, Avg. Loss: 0.20440036430954933\n",
      "Epoch: 18, Batch: 180, Avg. Loss: 0.18924188017845153\n",
      "Epoch: 18, Batch: 190, Avg. Loss: 0.31730416491627694\n",
      "Epoch: 18, Batch: 200, Avg. Loss: 0.27773387134075167\n",
      "Epoch: 18, Batch: 210, Avg. Loss: 0.17339509278535842\n",
      "Epoch: 18, Batch: 220, Avg. Loss: 0.1888849914073944\n",
      "Epoch: 18, Batch: 230, Avg. Loss: 0.18881852477788924\n",
      "Epoch: 18, Batch: 240, Avg. Loss: 0.17662959918379784\n",
      "Epoch: 18, Batch: 250, Avg. Loss: 0.2072904773056507\n",
      "Epoch: 18, Batch: 260, Avg. Loss: 0.17740705013275146\n",
      "Epoch: 18, Batch: 270, Avg. Loss: 0.1927972137928009\n",
      "Epoch: 18, Batch: 280, Avg. Loss: 0.18207766935229303\n",
      "Epoch: 18, Batch: 290, Avg. Loss: 0.17541516721248626\n",
      "Epoch: 18, Batch: 300, Avg. Loss: 0.24297213181853294\n",
      "Epoch: 18, Batch: 310, Avg. Loss: 0.20363253429532052\n",
      "Epoch: 18, Batch: 320, Avg. Loss: 0.16830210387706757\n",
      "Epoch: 18, Batch: 330, Avg. Loss: 0.1818561315536499\n",
      "Epoch: 18, Batch: 340, Avg. Loss: 0.1761236846446991\n",
      "Epoch: 19, Batch: 10, Avg. Loss: 0.17979443296790124\n",
      "Epoch: 19, Batch: 20, Avg. Loss: 0.19392525404691696\n",
      "Epoch: 19, Batch: 30, Avg. Loss: 0.20503358989953996\n",
      "Epoch: 19, Batch: 40, Avg. Loss: 0.21238479465246202\n",
      "Epoch: 19, Batch: 50, Avg. Loss: 0.17771676033735276\n",
      "Epoch: 19, Batch: 60, Avg. Loss: 0.16395408511161805\n",
      "Epoch: 19, Batch: 70, Avg. Loss: 0.1550288714468479\n",
      "Epoch: 19, Batch: 80, Avg. Loss: 0.1867253951728344\n",
      "Epoch: 19, Batch: 90, Avg. Loss: 0.16930532157421113\n",
      "Epoch: 19, Batch: 100, Avg. Loss: 0.17510270625352858\n",
      "Epoch: 19, Batch: 110, Avg. Loss: 0.18197841048240662\n",
      "Epoch: 19, Batch: 120, Avg. Loss: 0.19076862186193466\n",
      "Epoch: 19, Batch: 130, Avg. Loss: 0.2181383639574051\n",
      "Epoch: 19, Batch: 140, Avg. Loss: 0.16364885047078132\n",
      "Epoch: 19, Batch: 150, Avg. Loss: 0.16561404690146447\n",
      "Epoch: 19, Batch: 160, Avg. Loss: 0.1599859394133091\n",
      "Epoch: 19, Batch: 170, Avg. Loss: 0.20179422795772553\n",
      "Epoch: 19, Batch: 180, Avg. Loss: 0.24748218134045602\n",
      "Epoch: 19, Batch: 190, Avg. Loss: 0.19057827815413475\n",
      "Epoch: 19, Batch: 200, Avg. Loss: 0.1613308683037758\n",
      "Epoch: 19, Batch: 210, Avg. Loss: 0.168028811365366\n",
      "Epoch: 19, Batch: 220, Avg. Loss: 0.19805631712079047\n",
      "Epoch: 19, Batch: 230, Avg. Loss: 0.20558037236332893\n",
      "Epoch: 19, Batch: 240, Avg. Loss: 0.19011692702770233\n",
      "Epoch: 19, Batch: 250, Avg. Loss: 0.2067269504070282\n",
      "Epoch: 19, Batch: 260, Avg. Loss: 0.1867793656885624\n",
      "Epoch: 19, Batch: 270, Avg. Loss: 0.18366004899144173\n",
      "Epoch: 19, Batch: 280, Avg. Loss: 0.16526863276958464\n",
      "Epoch: 19, Batch: 290, Avg. Loss: 0.19649852886796\n",
      "Epoch: 19, Batch: 300, Avg. Loss: 0.17595751732587814\n",
      "Epoch: 19, Batch: 310, Avg. Loss: 0.22866379469633102\n",
      "Epoch: 19, Batch: 320, Avg. Loss: 0.24242962077260016\n",
      "Epoch: 19, Batch: 330, Avg. Loss: 0.20949147939682006\n",
      "Epoch: 19, Batch: 340, Avg. Loss: 0.18740643188357353\n",
      "Epoch: 20, Batch: 10, Avg. Loss: 0.1881972774863243\n",
      "Epoch: 20, Batch: 20, Avg. Loss: 0.19870444238185883\n",
      "Epoch: 20, Batch: 30, Avg. Loss: 0.2070614829659462\n",
      "Epoch: 20, Batch: 40, Avg. Loss: 0.19742957577109338\n",
      "Epoch: 20, Batch: 50, Avg. Loss: 0.16404677778482438\n",
      "Epoch: 20, Batch: 60, Avg. Loss: 0.2099027268588543\n",
      "Epoch: 20, Batch: 70, Avg. Loss: 0.14862549155950547\n",
      "Epoch: 20, Batch: 80, Avg. Loss: 0.2081977680325508\n",
      "Epoch: 20, Batch: 90, Avg. Loss: 0.17308125793933868\n",
      "Epoch: 20, Batch: 100, Avg. Loss: 0.17201034650206565\n",
      "Epoch: 20, Batch: 110, Avg. Loss: 0.1909503921866417\n",
      "Epoch: 20, Batch: 120, Avg. Loss: 0.172077015042305\n",
      "Epoch: 20, Batch: 130, Avg. Loss: 0.20844874605536462\n",
      "Epoch: 20, Batch: 140, Avg. Loss: 0.2158581256866455\n",
      "Epoch: 20, Batch: 150, Avg. Loss: 0.19205393493175507\n",
      "Epoch: 20, Batch: 160, Avg. Loss: 0.18300647512078286\n",
      "Epoch: 20, Batch: 170, Avg. Loss: 0.2146984249353409\n",
      "Epoch: 20, Batch: 180, Avg. Loss: 0.18290629759430885\n",
      "Epoch: 20, Batch: 190, Avg. Loss: 0.20123156458139418\n",
      "Epoch: 20, Batch: 200, Avg. Loss: 0.18496254086494446\n",
      "Epoch: 20, Batch: 210, Avg. Loss: 0.17736478745937348\n",
      "Epoch: 20, Batch: 220, Avg. Loss: 0.2221569299697876\n",
      "Epoch: 20, Batch: 230, Avg. Loss: 0.26514478027820587\n",
      "Epoch: 20, Batch: 240, Avg. Loss: 0.15438493192195893\n",
      "Epoch: 20, Batch: 250, Avg. Loss: 0.21562036871910095\n",
      "Epoch: 20, Batch: 260, Avg. Loss: 0.2024681881070137\n",
      "Epoch: 20, Batch: 270, Avg. Loss: 0.18472935408353805\n",
      "Epoch: 20, Batch: 280, Avg. Loss: 0.15393007174134254\n",
      "Epoch: 20, Batch: 290, Avg. Loss: 0.21653059124946594\n",
      "Epoch: 20, Batch: 300, Avg. Loss: 0.20029743611812592\n",
      "Epoch: 20, Batch: 310, Avg. Loss: 0.17747781053185463\n",
      "Epoch: 20, Batch: 320, Avg. Loss: 0.17077800035476684\n",
      "Epoch: 20, Batch: 330, Avg. Loss: 0.19027419611811638\n",
      "Epoch: 20, Batch: 340, Avg. Loss: 0.2142746552824974\n",
      "Finished Training\n"
     ]
    },
    {
     "data": {
      "image/png": "[encoded data removed]",
      "text/plain": [
       "<matplotlib.figure.Figure at 0x7faf07d2eac8>"
      ]
     },
     "metadata": {
      "needs_background": "light"
     },
     "output_type": "display_data"
    }
   ],
   "source": [
    "# train your network\n",
    "n_epochs = 20 # start small, and increase when you've decided on your model structure and hyperparams\n",
    "\n",
    "# this is a Workspaces-specific context manager to keep the connection\n",
    "# alive while training your model, not part of pytorch\n",
    "with active_session():\n",
    "    training_loss = train_net(n_epochs)\n",
    "    "
   ]
  },
  {
   "cell_type": "code",
   "execution_count": 103,
   "metadata": {},
   "outputs": [
    {
     "data": {
      "image/png": "[encoded data removed]",
      "text/plain": [
       "<matplotlib.figure.Figure at 0x7faf0857d7f0>"
      ]
     },
     "metadata": {
      "needs_background": "light"
     },
     "output_type": "display_data"
    }
   ],
   "source": [
    "# plot training loss\n",
    "plt.plot(training_loss)\n",
    "# plt.xlabel('1000\\'s of batches')\n",
    "# plt.ylabel('loss')\n",
    "# plt.ylim(0, 0.5) # consistent scale\n",
    "plt.show()"
   ]
  },
  {
   "cell_type": "markdown",
   "metadata": {},
   "source": [
    "## Test data\n",
    "\n",
    "See how your model performs on previously unseen, test data. We've already loaded and transformed this data, similar to the training data. Next, run your trained model on these images to see what kind of keypoints are produced. You should be able to see if your model is fitting each new face it sees, if the points are distributed randomly, or if the points have actually overfitted the training data and do not generalize."
   ]
  },
  {
   "cell_type": "code",
   "execution_count": null,
   "metadata": {},
   "outputs": [],
   "source": [
    "# get a sample of test data again\n",
    "test_images, test_outputs, gt_pts = net_sample_output()\n",
    "\n",
    "print(test_images.data.size())\n",
    "print(test_outputs.data.size())\n",
    "print(gt_pts.size())"
   ]
  },
  {
   "cell_type": "code",
   "execution_count": null,
   "metadata": {},
   "outputs": [],
   "source": [
    "## TODO: visualize your test output\n",
    "# you can use the same function as before, by un-commenting the line below:\n",
    "\n",
    "visualize_output(test_images, test_outputs, gt_pts)\n"
   ]
  },
  {
   "cell_type": "markdown",
   "metadata": {},
   "source": [
    "Once you've found a good model (or two), save your model so you can load it and use it later!\n",
    "\n",
    "Save your models but please **delete any checkpoints and saved models before you submit your project** otherwise your workspace may be too large to submit."
   ]
  },
  {
   "cell_type": "code",
   "execution_count": null,
   "metadata": {},
   "outputs": [],
   "source": [
    "## TODO: change the name to something uniqe for each new model\n",
    "model_dir = 'saved_models/'\n",
    "model_name = 'keypoints_model_1.pt'\n",
    "\n",
    "# after training, save your model parameters in the dir 'saved_models'\n",
    "torch.save(net.state_dict(), model_dir+model_name)"
   ]
  },
  {
   "cell_type": "markdown",
   "metadata": {},
   "source": [
    "After you've trained a well-performing model, answer the following questions so that we have some insight into your training and architecture selection process. Answering all questions is required to pass this project."
   ]
  },
  {
   "cell_type": "markdown",
   "metadata": {},
   "source": [
    "### Question 1: What optimization and loss functions did you choose and why?\n"
   ]
  },
  {
   "cell_type": "markdown",
   "metadata": {},
   "source": [
    "**Answer**: write your answer here (double click to edit this cell)"
   ]
  },
  {
   "cell_type": "markdown",
   "metadata": {},
   "source": [
    "### Question 2: What kind of network architecture did you start with and how did it change as you tried different architectures? Did you decide to add more convolutional layers or any layers to avoid overfitting the data?"
   ]
  },
  {
   "cell_type": "markdown",
   "metadata": {},
   "source": [
    "**Answer**: write your answer here"
   ]
  },
  {
   "cell_type": "markdown",
   "metadata": {},
   "source": [
    "### Question 3: How did you decide on the number of epochs and batch_size to train your model?"
   ]
  },
  {
   "cell_type": "markdown",
   "metadata": {},
   "source": [
    "**Answer**: write your answer here"
   ]
  },
  {
   "cell_type": "markdown",
   "metadata": {},
   "source": [
    "## Feature Visualization\n",
    "\n",
    "Sometimes, neural networks are thought of as a black box, given some input, they learn to produce some output. CNN's are actually learning to recognize a variety of spatial patterns and you can visualize what each convolutional layer has been trained to recognize by looking at the weights that make up each convolutional kernel and applying those one at a time to a sample image. This technique is called feature visualization and it's useful for understanding the inner workings of a CNN."
   ]
  },
  {
   "cell_type": "markdown",
   "metadata": {},
   "source": [
    "In the cell below, you can see how to extract a single filter (by index) from your first convolutional layer. The filter should appear as a grayscale grid."
   ]
  },
  {
   "cell_type": "code",
   "execution_count": null,
   "metadata": {},
   "outputs": [],
   "source": [
    "# Get the weights in the first conv layer, \"conv1\"\n",
    "# if necessary, change this to reflect the name of your first conv layer\n",
    "weights1 = net.conv1.weight.data\n",
    "\n",
    "w = weights1.numpy()\n",
    "\n",
    "filter_index = 0\n",
    "\n",
    "print(w[filter_index][0])\n",
    "print(w[filter_index][0].shape)\n",
    "\n",
    "# display the filter weights\n",
    "plt.imshow(w[filter_index][0], cmap='gray')\n"
   ]
  },
  {
   "cell_type": "markdown",
   "metadata": {},
   "source": [
    "## Feature maps\n",
    "\n",
    "Each CNN has at least one convolutional layer that is composed of stacked filters (also known as convolutional kernels). As a CNN trains, it learns what weights to include in it's convolutional kernels and when these kernels are applied to some input image, they produce a set of **feature maps**. So, feature maps are just sets of filtered images; they are the images produced by applying a convolutional kernel to an input image. These maps show us the features that the different layers of the neural network learn to extract. For example, you might imagine a convolutional kernel that detects the vertical edges of a face or another one that detects the corners of eyes. You can see what kind of features each of these kernels detects by applying them to an image. One such example is shown below; from the way it brings out the lines in an the image, you might characterize this as an edge detection filter.\n",
    "\n",
    "<img src='images/feature_map_ex.png' width=50% height=50%/>\n",
    "\n",
    "\n",
    "Next, choose a test image and filter it with one of the convolutional kernels in your trained CNN; look at the filtered output to get an idea what that particular kernel detects.\n",
    "\n",
    "### TODO: Filter an image to see the effect of a convolutional kernel\n",
    "---"
   ]
  },
  {
   "cell_type": "code",
   "execution_count": null,
   "metadata": {},
   "outputs": [],
   "source": [
    "##TODO: load in and display any image from the transformed test dataset\n",
    "\n",
    "## TODO: Using cv's filter2D function,\n",
    "## apply a specific set of filter weights (like the one displayed above) to the test image\n"
   ]
  },
  {
   "cell_type": "markdown",
   "metadata": {},
   "source": [
    "### Question 4: Choose one filter from your trained CNN and apply it to a test image; what purpose do you think it plays? What kind of feature do you think it detects?\n"
   ]
  },
  {
   "cell_type": "markdown",
   "metadata": {},
   "source": [
    "**Answer**: (does it detect vertical lines or does it blur out noise, etc.) write your answer here"
   ]
  },
  {
   "cell_type": "markdown",
   "metadata": {},
   "source": [
    "---\n",
    "## Moving on!\n",
    "\n",
    "Now that you've defined and trained your model (and saved the best model), you are ready to move on to the last notebook, which combines a face detector with your saved model to create a facial keypoint detection system that can predict the keypoints on *any* face in an image!"
   ]
  }
 ],
 "metadata": {
  "kernelspec": {
   "display_name": "Python 3",
   "language": "python",
   "name": "python3"
  },
  "language_info": {
   "codemirror_mode": {
    "name": "ipython",
    "version": 2
   },
   "file_extension": ".py",
   "mimetype": "text/x-python",
   "name": "python",
   "nbconvert_exporter": "python",
   "pygments_lexer": "ipython2",
   "version": "2.7.17"
  }
 },
 "nbformat": 4,
 "nbformat_minor": 2
}
